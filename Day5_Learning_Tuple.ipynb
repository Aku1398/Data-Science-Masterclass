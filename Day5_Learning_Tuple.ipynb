{
 "cells": [
  {
   "cell_type": "markdown",
   "id": "ab976a5a-a8cd-4d64-95ad-97348694563b",
   "metadata": {},
   "source": [
    "# Tuple"
   ]
  },
  {
   "cell_type": "code",
   "execution_count": 2,
   "id": "2d6617a6-b32f-4eed-aee0-4172d1a80ea0",
   "metadata": {},
   "outputs": [],
   "source": [
    "t =()"
   ]
  },
  {
   "cell_type": "code",
   "execution_count": 3,
   "id": "b0a38a81-71f9-4ed7-b283-5e231d81bcec",
   "metadata": {},
   "outputs": [
    {
     "data": {
      "text/plain": [
       "tuple"
      ]
     },
     "execution_count": 3,
     "metadata": {},
     "output_type": "execute_result"
    }
   ],
   "source": [
    "type(t)"
   ]
  },
  {
   "cell_type": "code",
   "execution_count": 4,
   "id": "497d96f8-d6f2-4a83-9a75-985782d57d33",
   "metadata": {},
   "outputs": [],
   "source": [
    "l = [1,2,3,4]"
   ]
  },
  {
   "cell_type": "code",
   "execution_count": 5,
   "id": "952b0826-06dc-48d5-a72e-b908f0b61471",
   "metadata": {},
   "outputs": [],
   "source": [
    "l = [1,3,5,7]"
   ]
  },
  {
   "cell_type": "code",
   "execution_count": 6,
   "id": "8b1b4c27-bc44-44e7-b2d0-cdc42fa9b911",
   "metadata": {},
   "outputs": [
    {
     "data": {
      "text/plain": [
       "list"
      ]
     },
     "execution_count": 6,
     "metadata": {},
     "output_type": "execute_result"
    }
   ],
   "source": [
    "type(l)"
   ]
  },
  {
   "cell_type": "code",
   "execution_count": 7,
   "id": "15e0ad0d-2b01-411b-bebf-1a2943e682c5",
   "metadata": {},
   "outputs": [],
   "source": [
    "t2=(1,2,3,4,45,67,98, 23+2j)"
   ]
  },
  {
   "cell_type": "code",
   "execution_count": 8,
   "id": "76892de3-481d-41d4-9361-42b96c8241ca",
   "metadata": {},
   "outputs": [
    {
     "data": {
      "text/plain": [
       "(1, 2, 3, 4, 45, 67, 98, (23+2j))"
      ]
     },
     "execution_count": 8,
     "metadata": {},
     "output_type": "execute_result"
    }
   ],
   "source": [
    "t2"
   ]
  },
  {
   "cell_type": "code",
   "execution_count": 9,
   "id": "577d8c59-e8d5-43f5-9b20-0d2ea4605d54",
   "metadata": {},
   "outputs": [
    {
     "data": {
      "text/plain": [
       "2"
      ]
     },
     "execution_count": 9,
     "metadata": {},
     "output_type": "execute_result"
    }
   ],
   "source": [
    "t2[1]"
   ]
  },
  {
   "cell_type": "code",
   "execution_count": 10,
   "id": "8183f111-1d32-4c41-b100-fd4a5ef836e4",
   "metadata": {},
   "outputs": [
    {
     "data": {
      "text/plain": [
       "45"
      ]
     },
     "execution_count": 10,
     "metadata": {},
     "output_type": "execute_result"
    }
   ],
   "source": [
    "t2[4]"
   ]
  },
  {
   "cell_type": "code",
   "execution_count": 11,
   "id": "d0d28fd4-6cd3-4937-8a82-d1de1f0bdf97",
   "metadata": {},
   "outputs": [],
   "source": [
    "t2=t2[::-1]"
   ]
  },
  {
   "cell_type": "code",
   "execution_count": 12,
   "id": "779f7817-b6df-4edd-a3a9-4df85c9fc75e",
   "metadata": {},
   "outputs": [
    {
     "data": {
      "text/plain": [
       "((23+2j), 98, 67, 45, 4, 3, 2, 1)"
      ]
     },
     "execution_count": 12,
     "metadata": {},
     "output_type": "execute_result"
    }
   ],
   "source": [
    "t2"
   ]
  },
  {
   "cell_type": "code",
   "execution_count": 17,
   "id": "cabecf66-40eb-4118-99ff-5decfe4b185a",
   "metadata": {},
   "outputs": [],
   "source": [
    "t1=(\"Akash\",\"Rayate\", 1,2,3,4,(5+6j),45,12.45)"
   ]
  },
  {
   "cell_type": "code",
   "execution_count": 20,
   "id": "4b1acc2d-ca09-4894-a48e-d0d146580616",
   "metadata": {},
   "outputs": [
    {
     "data": {
      "text/plain": [
       "(1, 4, 12.45)"
      ]
     },
     "execution_count": 20,
     "metadata": {},
     "output_type": "execute_result"
    }
   ],
   "source": [
    "t1[2::3]"
   ]
  },
  {
   "cell_type": "code",
   "execution_count": 22,
   "id": "04fd1e48-a967-41cd-88a3-627701d4cc6b",
   "metadata": {},
   "outputs": [
    {
     "data": {
      "text/plain": [
       "1"
      ]
     },
     "execution_count": 22,
     "metadata": {},
     "output_type": "execute_result"
    }
   ],
   "source": [
    "t1.count(4)"
   ]
  },
  {
   "cell_type": "code",
   "execution_count": 23,
   "id": "6dc72c81-1d6c-446e-ad1e-99164ed2974d",
   "metadata": {},
   "outputs": [
    {
     "data": {
      "text/plain": [
       "2"
      ]
     },
     "execution_count": 23,
     "metadata": {},
     "output_type": "execute_result"
    }
   ],
   "source": [
    "t1.index(1)"
   ]
  },
  {
   "cell_type": "code",
   "execution_count": 24,
   "id": "5be2b1ab-5af7-443f-8302-1b43a5ab0933",
   "metadata": {},
   "outputs": [],
   "source": [
    "l = [1,2,4,8,0,\"True\",\"Akash\"]"
   ]
  },
  {
   "cell_type": "code",
   "execution_count": 25,
   "id": "bc620d29-3727-425a-a9b6-099a724d54f0",
   "metadata": {},
   "outputs": [
    {
     "data": {
      "text/plain": [
       "[1, 2, 4, 8, 0, 'True', 'Akash']"
      ]
     },
     "execution_count": 25,
     "metadata": {},
     "output_type": "execute_result"
    }
   ],
   "source": [
    "l"
   ]
  },
  {
   "cell_type": "code",
   "execution_count": 26,
   "id": "34a78939-9e26-4290-99bd-105ec1b52a92",
   "metadata": {},
   "outputs": [
    {
     "data": {
      "text/plain": [
       "'True'"
      ]
     },
     "execution_count": 26,
     "metadata": {},
     "output_type": "execute_result"
    }
   ],
   "source": [
    "l[5]"
   ]
  },
  {
   "cell_type": "markdown",
   "id": "df2bd2d3-95f4-4d00-98ff-ff8268dd7bb0",
   "metadata": {},
   "source": [
    "#### Tuples are basically follows Immutability concept where bit is not going to allow to chage any element at a perticular index"
   ]
  },
  {
   "cell_type": "code",
   "execution_count": 27,
   "id": "3fc8a9b6-4b76-44d0-b698-4b9b4474202e",
   "metadata": {},
   "outputs": [
    {
     "data": {
      "text/plain": [
       "('Akash', 'Rayate', 1, 2, 3, 4, (5+6j), 45, 12.45)"
      ]
     },
     "execution_count": 27,
     "metadata": {},
     "output_type": "execute_result"
    }
   ],
   "source": [
    "t1"
   ]
  },
  {
   "cell_type": "code",
   "execution_count": 28,
   "id": "9ab83757-652b-4599-beae-620e02c87056",
   "metadata": {},
   "outputs": [
    {
     "ename": "TypeError",
     "evalue": "'tuple' object does not support item assignment",
     "output_type": "error",
     "traceback": [
      "\u001b[0;31m---------------------------------------------------------------------------\u001b[0m",
      "\u001b[0;31mTypeError\u001b[0m                                 Traceback (most recent call last)",
      "Cell \u001b[0;32mIn[28], line 1\u001b[0m\n\u001b[0;32m----> 1\u001b[0m \u001b[43mt1\u001b[49m\u001b[43m[\u001b[49m\u001b[38;5;241;43m0\u001b[39;49m\u001b[43m]\u001b[49m\u001b[38;5;241m=\u001b[39m\u001b[38;5;124m\"\u001b[39m\u001b[38;5;124mPrakash\u001b[39m\u001b[38;5;124m\"\u001b[39m\n",
      "\u001b[0;31mTypeError\u001b[0m: 'tuple' object does not support item assignment"
     ]
    }
   ],
   "source": [
    "t1[0]=\"Prakash\""
   ]
  },
  {
   "cell_type": "code",
   "execution_count": 29,
   "id": "ced06170-4f84-4616-a407-114f6d6a5f81",
   "metadata": {},
   "outputs": [
    {
     "data": {
      "text/plain": [
       "[1, 2, 4, 8, 0, 'True', 'Akash']"
      ]
     },
     "execution_count": 29,
     "metadata": {},
     "output_type": "execute_result"
    }
   ],
   "source": [
    "l"
   ]
  },
  {
   "cell_type": "code",
   "execution_count": 31,
   "id": "b67c4040-7e19-4790-98cc-34e0411de527",
   "metadata": {},
   "outputs": [],
   "source": [
    "l[0]=100"
   ]
  },
  {
   "cell_type": "code",
   "execution_count": 33,
   "id": "25c2b379-621f-452c-94d0-646fe940ccb4",
   "metadata": {},
   "outputs": [
    {
     "data": {
      "text/plain": [
       "[100, 2, 4, 8, 0, 'True', 'Akash']"
      ]
     },
     "execution_count": 33,
     "metadata": {},
     "output_type": "execute_result"
    }
   ],
   "source": [
    "l"
   ]
  },
  {
   "cell_type": "markdown",
   "id": "6583362d-38cc-4281-b2f4-61070b598866",
   "metadata": {},
   "source": [
    "#### list is mutable. we can change values in List."
   ]
  },
  {
   "cell_type": "code",
   "execution_count": 34,
   "id": "a3541237-480a-4c63-945d-32a79c22adb9",
   "metadata": {},
   "outputs": [
    {
     "data": {
      "text/plain": [
       "('Akash', 'Rayate', 1, 2, 3, 4, (5+6j), 45, 12.45)"
      ]
     },
     "execution_count": 34,
     "metadata": {},
     "output_type": "execute_result"
    }
   ],
   "source": [
    "t1"
   ]
  },
  {
   "cell_type": "code",
   "execution_count": 35,
   "id": "b2d06ca4-6d53-4433-a1ce-50a9903147b6",
   "metadata": {},
   "outputs": [
    {
     "name": "stdout",
     "output_type": "stream",
     "text": [
      "Akash <class 'str'>\n",
      "Rayate <class 'str'>\n",
      "1 <class 'int'>\n",
      "2 <class 'int'>\n",
      "3 <class 'int'>\n",
      "4 <class 'int'>\n",
      "(5+6j) <class 'complex'>\n",
      "45 <class 'int'>\n",
      "12.45 <class 'float'>\n"
     ]
    }
   ],
   "source": [
    "for i in t1:\n",
    "    print(i,type(i))"
   ]
  },
  {
   "cell_type": "code",
   "execution_count": 36,
   "id": "9947e833-92eb-4e87-aa4a-6ec72df1dce6",
   "metadata": {},
   "outputs": [],
   "source": [
    "t2=(1,2,3,4,5)"
   ]
  },
  {
   "cell_type": "code",
   "execution_count": 37,
   "id": "4476bf91-da5d-46b9-b517-bf9722556c37",
   "metadata": {},
   "outputs": [
    {
     "data": {
      "text/plain": [
       "(1, 2, 3, 4, 5)"
      ]
     },
     "execution_count": 37,
     "metadata": {},
     "output_type": "execute_result"
    }
   ],
   "source": [
    "t2"
   ]
  },
  {
   "cell_type": "code",
   "execution_count": 38,
   "id": "73174ed3-ef14-4778-b0d3-d190dfa32e9b",
   "metadata": {},
   "outputs": [
    {
     "data": {
      "text/plain": [
       "(1, 2, 3, 4, 5, 1, 2, 3, 4, 5, 1, 2, 3, 4, 5)"
      ]
     },
     "execution_count": 38,
     "metadata": {},
     "output_type": "execute_result"
    }
   ],
   "source": [
    "t2 * 3"
   ]
  },
  {
   "cell_type": "code",
   "execution_count": 39,
   "id": "d66efe1d-6925-4b30-8700-0a9ab445805f",
   "metadata": {},
   "outputs": [
    {
     "data": {
      "text/plain": [
       "5"
      ]
     },
     "execution_count": 39,
     "metadata": {},
     "output_type": "execute_result"
    }
   ],
   "source": [
    "max(t2)"
   ]
  },
  {
   "cell_type": "code",
   "execution_count": 40,
   "id": "8e46751e-9316-40f9-a3d7-8d9cdb2311a8",
   "metadata": {},
   "outputs": [
    {
     "data": {
      "text/plain": [
       "1"
      ]
     },
     "execution_count": 40,
     "metadata": {},
     "output_type": "execute_result"
    }
   ],
   "source": [
    "min(t2)"
   ]
  },
  {
   "cell_type": "code",
   "execution_count": 41,
   "id": "00b9f1c5-def7-49b9-99fc-30bb75da31d8",
   "metadata": {},
   "outputs": [],
   "source": [
    "t1 = (1,2,3,42)"
   ]
  },
  {
   "cell_type": "code",
   "execution_count": 42,
   "id": "efc34ebd-cfef-45e8-8afa-6ec06023795a",
   "metadata": {},
   "outputs": [],
   "source": [
    "t2 = (2,3,4,556,7)"
   ]
  },
  {
   "cell_type": "code",
   "execution_count": 43,
   "id": "80e1e7d6-81ce-47c7-9168-df91bc28ef37",
   "metadata": {},
   "outputs": [],
   "source": [
    "t3 = (t1,t2)"
   ]
  },
  {
   "cell_type": "code",
   "execution_count": 45,
   "id": "0388ccba-c3f8-4b8a-ae6d-a6a96e7aefeb",
   "metadata": {},
   "outputs": [
    {
     "data": {
      "text/plain": [
       "((1, 2, 3, 42), (2, 3, 4, 556, 7))"
      ]
     },
     "execution_count": 45,
     "metadata": {},
     "output_type": "execute_result"
    }
   ],
   "source": [
    "t3"
   ]
  },
  {
   "cell_type": "code",
   "execution_count": 46,
   "id": "ff76d3c6-28bf-4ede-86bf-ae4c998228e3",
   "metadata": {},
   "outputs": [],
   "source": [
    "t4 = (t1,(12,3,43,3),t2,[2,5,6,8])"
   ]
  },
  {
   "cell_type": "code",
   "execution_count": 47,
   "id": "df9d40dc-a3a7-4b7d-a607-d4209b230c80",
   "metadata": {},
   "outputs": [
    {
     "data": {
      "text/plain": [
       "((1, 2, 3, 42), (12, 3, 43, 3), (2, 3, 4, 556, 7), [2, 5, 6, 8])"
      ]
     },
     "execution_count": 47,
     "metadata": {},
     "output_type": "execute_result"
    }
   ],
   "source": [
    "t4"
   ]
  },
  {
   "cell_type": "code",
   "execution_count": 50,
   "id": "fba7ea5a-ec60-4ac9-826a-87dde4e4d494",
   "metadata": {},
   "outputs": [],
   "source": [
    "## Delete Index\n",
    "del t3"
   ]
  },
  {
   "cell_type": "code",
   "execution_count": 51,
   "id": "556ddf55-6771-441a-9de1-9d543300e977",
   "metadata": {},
   "outputs": [
    {
     "ename": "NameError",
     "evalue": "name 't3' is not defined",
     "output_type": "error",
     "traceback": [
      "\u001b[0;31m---------------------------------------------------------------------------\u001b[0m",
      "\u001b[0;31mNameError\u001b[0m                                 Traceback (most recent call last)",
      "Cell \u001b[0;32mIn[51], line 1\u001b[0m\n\u001b[0;32m----> 1\u001b[0m \u001b[43mt3\u001b[49m\n",
      "\u001b[0;31mNameError\u001b[0m: name 't3' is not defined"
     ]
    }
   ],
   "source": [
    "t3"
   ]
  },
  {
   "cell_type": "code",
   "execution_count": 52,
   "id": "eb075a2e-13fe-4765-8634-a7a5bac0e024",
   "metadata": {},
   "outputs": [
    {
     "data": {
      "text/plain": [
       "(1, 2, 3, 42)"
      ]
     },
     "execution_count": 52,
     "metadata": {},
     "output_type": "execute_result"
    }
   ],
   "source": [
    "t1"
   ]
  },
  {
   "cell_type": "code",
   "execution_count": 53,
   "id": "e8d63cf0-afc6-469e-8fd8-734542462c68",
   "metadata": {},
   "outputs": [
    {
     "data": {
      "text/plain": [
       "4"
      ]
     },
     "execution_count": 53,
     "metadata": {},
     "output_type": "execute_result"
    }
   ],
   "source": [
    "len(t1)"
   ]
  },
  {
   "cell_type": "code",
   "execution_count": 54,
   "id": "61d2eb0a-6370-4938-a1d3-1d7ed87f53ed",
   "metadata": {},
   "outputs": [
    {
     "data": {
      "text/plain": [
       "False"
      ]
     },
     "execution_count": 54,
     "metadata": {},
     "output_type": "execute_result"
    }
   ],
   "source": [
    "\"sudh\" in t1"
   ]
  },
  {
   "cell_type": "code",
   "execution_count": 55,
   "id": "8a9d3c2c-da1d-4f42-bb6d-951c3c205e63",
   "metadata": {},
   "outputs": [
    {
     "data": {
      "text/plain": [
       "True"
      ]
     },
     "execution_count": 55,
     "metadata": {},
     "output_type": "execute_result"
    }
   ],
   "source": [
    "2 in t1"
   ]
  },
  {
   "cell_type": "code",
   "execution_count": null,
   "id": "3a139ead-0540-4dc2-be24-e7c32ed635a7",
   "metadata": {},
   "outputs": [],
   "source": []
  }
 ],
 "metadata": {
  "kernelspec": {
   "display_name": "Python 3 (ipykernel)",
   "language": "python",
   "name": "python3"
  },
  "language_info": {
   "codemirror_mode": {
    "name": "ipython",
    "version": 3
   },
   "file_extension": ".py",
   "mimetype": "text/x-python",
   "name": "python",
   "nbconvert_exporter": "python",
   "pygments_lexer": "ipython3",
   "version": "3.10.8"
  }
 },
 "nbformat": 4,
 "nbformat_minor": 5
}
