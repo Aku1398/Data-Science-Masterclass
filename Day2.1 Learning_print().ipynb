{
 "cells": [
  {
   "cell_type": "code",
   "execution_count": 1,
   "id": "fd1f0265-e3f4-4e05-8a4a-21dc3b5395ab",
   "metadata": {},
   "outputs": [],
   "source": [
    "num=10"
   ]
  },
  {
   "cell_type": "code",
   "execution_count": 2,
   "id": "817e6350-fc5c-4b83-aece-e827f00902c8",
   "metadata": {},
   "outputs": [],
   "source": [
    "string='abc'"
   ]
  },
  {
   "cell_type": "code",
   "execution_count": 4,
   "id": "09af41fd-40b6-4755-9548-66894c853bf2",
   "metadata": {},
   "outputs": [
    {
     "data": {
      "text/plain": [
       "int"
      ]
     },
     "execution_count": 4,
     "metadata": {},
     "output_type": "execute_result"
    }
   ],
   "source": [
    "type(num)"
   ]
  },
  {
   "cell_type": "code",
   "execution_count": 6,
   "id": "8dbf2170-f78d-40d0-b0f6-b348be543bb9",
   "metadata": {},
   "outputs": [
    {
     "data": {
      "text/plain": [
       "str"
      ]
     },
     "execution_count": 6,
     "metadata": {},
     "output_type": "execute_result"
    }
   ],
   "source": [
    "type(string)"
   ]
  },
  {
   "cell_type": "code",
   "execution_count": 7,
   "id": "d59b6f1a-0d64-4895-9e47-3cb1a35ebb71",
   "metadata": {},
   "outputs": [
    {
     "ename": "ValueError",
     "evalue": "invalid literal for int() with base 10: 'abcd'",
     "output_type": "error",
     "traceback": [
      "\u001b[0;31m---------------------------------------------------------------------------\u001b[0m",
      "\u001b[0;31mValueError\u001b[0m                                Traceback (most recent call last)",
      "Cell \u001b[0;32mIn[7], line 1\u001b[0m\n\u001b[0;32m----> 1\u001b[0m \u001b[38;5;28;43mint\u001b[39;49m\u001b[43m(\u001b[49m\u001b[38;5;124;43m'\u001b[39;49m\u001b[38;5;124;43mabcd\u001b[39;49m\u001b[38;5;124;43m'\u001b[39;49m\u001b[43m)\u001b[49m\n",
      "\u001b[0;31mValueError\u001b[0m: invalid literal for int() with base 10: 'abcd'"
     ]
    }
   ],
   "source": [
    "int('abcd')"
   ]
  },
  {
   "cell_type": "code",
   "execution_count": 8,
   "id": "77a5f077-d35d-4efb-a0f7-322770fa4a45",
   "metadata": {},
   "outputs": [
    {
     "name": "stdout",
     "output_type": "stream",
     "text": [
      "Hello World\n"
     ]
    }
   ],
   "source": [
    "print(\"Hello World\")"
   ]
  },
  {
   "cell_type": "code",
   "execution_count": 9,
   "id": "bfc4088c-0447-445d-9799-ca7af923cd98",
   "metadata": {},
   "outputs": [
    {
     "name": "stdout",
     "output_type": "stream",
     "text": [
      "123\n"
     ]
    }
   ],
   "source": [
    "print(123)"
   ]
  },
  {
   "cell_type": "code",
   "execution_count": 10,
   "id": "15f54c63-20ee-4ba5-9b61-b825deb06219",
   "metadata": {},
   "outputs": [
    {
     "name": "stdout",
     "output_type": "stream",
     "text": [
      "I am here for you\n"
     ]
    }
   ],
   "source": [
    "print('I am here for you')"
   ]
  },
  {
   "cell_type": "markdown",
   "id": "5ec3ea47-636e-4065-9590-c6fd29abae6c",
   "metadata": {},
   "source": [
    "# Normal String"
   ]
  },
  {
   "cell_type": "code",
   "execution_count": 12,
   "id": "40877144-a44c-4c72-8b49-f350b495d413",
   "metadata": {},
   "outputs": [
    {
     "name": "stdout",
     "output_type": "stream",
     "text": [
      "My age is : 24\n"
     ]
    }
   ],
   "source": [
    "age=24\n",
    "print(\"My age is :\", age)"
   ]
  },
  {
   "cell_type": "markdown",
   "id": "957a3d76-39b1-4b4f-92ec-bea789b9371d",
   "metadata": {},
   "source": [
    "# fString"
   ]
  },
  {
   "cell_type": "code",
   "execution_count": 13,
   "id": "ad3e533f-c061-407a-8efe-82510bbb98c8",
   "metadata": {},
   "outputs": [
    {
     "name": "stdout",
     "output_type": "stream",
     "text": [
      "My age is : 24\n"
     ]
    }
   ],
   "source": [
    "print(f\"My age is : {age}\")"
   ]
  },
  {
   "cell_type": "markdown",
   "id": "b3a1af15-fab5-4b6e-965c-f81c51ca31d0",
   "metadata": {},
   "source": [
    "## formate() function"
   ]
  },
  {
   "cell_type": "code",
   "execution_count": 16,
   "id": "6aaaeb75-1200-4ee1-860c-368bd9569046",
   "metadata": {},
   "outputs": [
    {
     "name": "stdout",
     "output_type": "stream",
     "text": [
      "My name is Akash and age is 24\n"
     ]
    }
   ],
   "source": [
    "##format()\n",
    "name = 'Akash'\n",
    "age = 24\n",
    "print(\"My name is {} and age is {}\".format(name,age))"
   ]
  },
  {
   "cell_type": "markdown",
   "id": "d0ec6599-30c6-4cc0-b889-6cb780516c62",
   "metadata": {},
   "source": [
    "## Placeholder"
   ]
  },
  {
   "cell_type": "code",
   "execution_count": 20,
   "id": "1f3f7c8e-5452-45de-b057-f4c8cb0d8718",
   "metadata": {},
   "outputs": [
    {
     "name": "stdout",
     "output_type": "stream",
     "text": [
      "My name is Akash and age is 24\n"
     ]
    }
   ],
   "source": [
    "print(\"My name is {firstname} and age is {latestage}\".format(firstname=name,latestage=age))"
   ]
  },
  {
   "cell_type": "code",
   "execution_count": 21,
   "id": "8a4adc93-8b75-4c0b-ac20-89d43e394cf4",
   "metadata": {},
   "outputs": [
    {
     "name": "stdout",
     "output_type": "stream",
     "text": [
      "My age is 24 and name is Akash and degree is BE\n"
     ]
    }
   ],
   "source": [
    "name=\"Akash\"\n",
    "age=24\n",
    "degree=\"BE\"\n",
    "print(\"My age is {} and name is {} and degree is {}\".format(age,name,degree))\n"
   ]
  },
  {
   "cell_type": "code",
   "execution_count": 22,
   "id": "1e50fbe9-5a56-44bc-a11d-0b02768555f6",
   "metadata": {},
   "outputs": [
    {
     "name": "stdout",
     "output_type": "stream",
     "text": [
      "My age is 24 and name is Akash and degree is BE\n"
     ]
    }
   ],
   "source": [
    "print(f\"My age is {age} and name is {name} and degree is {degree}\")"
   ]
  },
  {
   "cell_type": "code",
   "execution_count": null,
   "id": "27abee0b-bf39-4ab6-a5e7-f99c5b598b0c",
   "metadata": {},
   "outputs": [],
   "source": []
  },
  {
   "cell_type": "code",
   "execution_count": null,
   "id": "038ebe64-2098-4e38-8280-6014351351af",
   "metadata": {},
   "outputs": [],
   "source": []
  },
  {
   "cell_type": "code",
   "execution_count": null,
   "id": "5169fc70-f387-4aa9-97bd-b9353720caee",
   "metadata": {},
   "outputs": [],
   "source": []
  },
  {
   "cell_type": "code",
   "execution_count": null,
   "id": "34f1e050-5d9e-455f-808d-8f2c44d99a3b",
   "metadata": {},
   "outputs": [],
   "source": []
  },
  {
   "cell_type": "code",
   "execution_count": null,
   "id": "39dfc1f6-f794-4f52-ad2b-0ba9dc152d72",
   "metadata": {},
   "outputs": [],
   "source": []
  },
  {
   "cell_type": "code",
   "execution_count": null,
   "id": "09689ded-0f3e-4b33-9155-4efd200e82c8",
   "metadata": {},
   "outputs": [],
   "source": []
  },
  {
   "cell_type": "code",
   "execution_count": null,
   "id": "9e8a3f17-b9cb-4812-befd-766938c6e9a8",
   "metadata": {},
   "outputs": [],
   "source": []
  },
  {
   "cell_type": "code",
   "execution_count": null,
   "id": "9f385c68-e88a-4025-b55f-b0af39e96380",
   "metadata": {},
   "outputs": [],
   "source": []
  },
  {
   "cell_type": "code",
   "execution_count": null,
   "id": "d5f6634c-df58-41fe-b169-995cdaef94ee",
   "metadata": {},
   "outputs": [],
   "source": []
  },
  {
   "cell_type": "code",
   "execution_count": null,
   "id": "bfaceb3f-10d2-4fb7-a3b2-3f2a688aa541",
   "metadata": {},
   "outputs": [],
   "source": []
  },
  {
   "cell_type": "code",
   "execution_count": null,
   "id": "ed6af92a-f39f-4e11-ba32-5e1482980263",
   "metadata": {},
   "outputs": [],
   "source": []
  },
  {
   "cell_type": "code",
   "execution_count": null,
   "id": "5dd27745-2827-4935-abe0-1ce3a5719d81",
   "metadata": {},
   "outputs": [],
   "source": []
  },
  {
   "cell_type": "code",
   "execution_count": null,
   "id": "53731e65-2310-41df-9f74-a7fa5b774b3f",
   "metadata": {},
   "outputs": [],
   "source": []
  },
  {
   "cell_type": "code",
   "execution_count": null,
   "id": "c83a0224-5ccf-49e6-b266-20bd597729fb",
   "metadata": {},
   "outputs": [],
   "source": []
  },
  {
   "cell_type": "code",
   "execution_count": null,
   "id": "d46fc56c-b44e-4b82-a602-141eab96a1ab",
   "metadata": {},
   "outputs": [],
   "source": []
  },
  {
   "cell_type": "code",
   "execution_count": null,
   "id": "f46bb639-7dd6-49a1-a77f-95f482ab17ce",
   "metadata": {},
   "outputs": [],
   "source": []
  },
  {
   "cell_type": "code",
   "execution_count": null,
   "id": "6cb23241-ba40-4bbc-a9a9-aa8a02170b2b",
   "metadata": {},
   "outputs": [],
   "source": []
  },
  {
   "cell_type": "code",
   "execution_count": null,
   "id": "99b66803-9335-45e1-82ab-cb6c08db8fe7",
   "metadata": {},
   "outputs": [],
   "source": []
  },
  {
   "cell_type": "code",
   "execution_count": null,
   "id": "349fb974-d6e1-4a59-be15-35768269a071",
   "metadata": {},
   "outputs": [],
   "source": []
  },
  {
   "cell_type": "code",
   "execution_count": null,
   "id": "aad13f35-97bc-4005-9374-11f79297e9fe",
   "metadata": {},
   "outputs": [],
   "source": []
  }
 ],
 "metadata": {
  "kernelspec": {
   "display_name": "Python 3 (ipykernel)",
   "language": "python",
   "name": "python3"
  },
  "language_info": {
   "codemirror_mode": {
    "name": "ipython",
    "version": 3
   },
   "file_extension": ".py",
   "mimetype": "text/x-python",
   "name": "python",
   "nbconvert_exporter": "python",
   "pygments_lexer": "ipython3",
   "version": "3.10.8"
  }
 },
 "nbformat": 4,
 "nbformat_minor": 5
}
