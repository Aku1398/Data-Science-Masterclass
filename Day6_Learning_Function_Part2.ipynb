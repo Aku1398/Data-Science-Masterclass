{
  "nbformat": 4,
  "nbformat_minor": 0,
  "metadata": {
    "colab": {
      "provenance": []
    },
    "kernelspec": {
      "name": "python3",
      "display_name": "Python 3"
    },
    "language_info": {
      "name": "python"
    }
  },
  "cells": [
    {
      "cell_type": "code",
      "execution_count": 1,
      "metadata": {
        "id": "wOjMRws-gifY"
      },
      "outputs": [],
      "source": [
        "def test(a,b,c,d,e):\n",
        "  pass"
      ]
    },
    {
      "cell_type": "code",
      "source": [
        "test(1,2,3,4,5)"
      ],
      "metadata": {
        "id": "e0RrvZrzQdXn"
      },
      "execution_count": 2,
      "outputs": []
    },
    {
      "cell_type": "code",
      "source": [
        "def test1(*args):\n",
        "  return args"
      ],
      "metadata": {
        "id": "6UzBLLf7Qkp_"
      },
      "execution_count": 3,
      "outputs": []
    },
    {
      "cell_type": "code",
      "source": [
        "test1(2)"
      ],
      "metadata": {
        "colab": {
          "base_uri": "https://localhost:8080/"
        },
        "id": "RIYZMDbLQvpH",
        "outputId": "a4ff5a7e-b0af-4c60-efe3-fd6d2719e0a7"
      },
      "execution_count": 5,
      "outputs": [
        {
          "output_type": "execute_result",
          "data": {
            "text/plain": [
              "(2,)"
            ]
          },
          "metadata": {},
          "execution_count": 5
        }
      ]
    },
    {
      "cell_type": "code",
      "source": [
        "test1(1,2,3,4,5)"
      ],
      "metadata": {
        "colab": {
          "base_uri": "https://localhost:8080/"
        },
        "id": "STR-tXZdQxL8",
        "outputId": "75a7e385-1b8a-426d-b7b8-9ca249765521"
      },
      "execution_count": 6,
      "outputs": [
        {
          "output_type": "execute_result",
          "data": {
            "text/plain": [
              "(1, 2, 3, 4, 5)"
            ]
          },
          "metadata": {},
          "execution_count": 6
        }
      ]
    },
    {
      "cell_type": "code",
      "source": [
        "test1(\"Ask\", [1,2,3,4,5], [1,2,3,4,5])"
      ],
      "metadata": {
        "colab": {
          "base_uri": "https://localhost:8080/"
        },
        "id": "tsq--s9VQ5u9",
        "outputId": "fc625b2c-d7f7-4465-8eaf-65f5c13edd26"
      },
      "execution_count": 7,
      "outputs": [
        {
          "output_type": "execute_result",
          "data": {
            "text/plain": [
              "('Ask', [1, 2, 3, 4, 5], [1, 2, 3, 4, 5])"
            ]
          },
          "metadata": {},
          "execution_count": 7
        }
      ]
    },
    {
      "cell_type": "code",
      "source": [
        "def test2(*Ask):\n",
        "  return Ask"
      ],
      "metadata": {
        "id": "eOX5p-fTRBCL"
      },
      "execution_count": 8,
      "outputs": []
    },
    {
      "cell_type": "code",
      "source": [
        "test2(3,5,7,9)"
      ],
      "metadata": {
        "colab": {
          "base_uri": "https://localhost:8080/"
        },
        "id": "IZ6h4v5HRHuY",
        "outputId": "5271bd0b-8fda-4bf0-fb17-0914cd698d62"
      },
      "execution_count": 9,
      "outputs": [
        {
          "output_type": "execute_result",
          "data": {
            "text/plain": [
              "(3, 5, 7, 9)"
            ]
          },
          "metadata": {},
          "execution_count": 9
        }
      ]
    },
    {
      "cell_type": "code",
      "source": [
        "def test4(*args):\n",
        "  l = []\n",
        "  for i in args:\n",
        "    if type(i) == list:\n",
        "      l.append(i)\n",
        "  return l"
      ],
      "metadata": {
        "id": "6fW1R_Z2RMD3"
      },
      "execution_count": 12,
      "outputs": []
    },
    {
      "cell_type": "code",
      "source": [
        "test4(1,2,3,[1,2,3,4,5],(1,2,3,4,4),\"Ask\", [4,5,6],[6,7,8])"
      ],
      "metadata": {
        "colab": {
          "base_uri": "https://localhost:8080/"
        },
        "id": "UwVdaVsLRkH8",
        "outputId": "9251ab49-9070-40eb-8b01-380fb99f993e"
      },
      "execution_count": 13,
      "outputs": [
        {
          "output_type": "execute_result",
          "data": {
            "text/plain": [
              "[[1, 2, 3, 4, 5], [4, 5, 6], [6, 7, 8]]"
            ]
          },
          "metadata": {},
          "execution_count": 13
        }
      ]
    },
    {
      "cell_type": "code",
      "source": [
        "def test5(**kwargs):\n",
        "  return kwargs"
      ],
      "metadata": {
        "id": "taPfCpz_R0wb"
      },
      "execution_count": 14,
      "outputs": []
    },
    {
      "cell_type": "code",
      "source": [
        "test5()"
      ],
      "metadata": {
        "colab": {
          "base_uri": "https://localhost:8080/"
        },
        "id": "eibuH4YtSNM7",
        "outputId": "cc8af503-48c6-41ee-8185-dbf53d21d128"
      },
      "execution_count": 15,
      "outputs": [
        {
          "output_type": "execute_result",
          "data": {
            "text/plain": [
              "{}"
            ]
          },
          "metadata": {},
          "execution_count": 15
        }
      ]
    },
    {
      "cell_type": "code",
      "source": [
        "type(test5())"
      ],
      "metadata": {
        "colab": {
          "base_uri": "https://localhost:8080/"
        },
        "id": "KMNjKfaCSPG6",
        "outputId": "40663bcb-f85a-4d58-c883-36eb1f8332e9"
      },
      "execution_count": 16,
      "outputs": [
        {
          "output_type": "execute_result",
          "data": {
            "text/plain": [
              "dict"
            ]
          },
          "metadata": {},
          "execution_count": 16
        }
      ]
    },
    {
      "cell_type": "code",
      "source": [
        "test5(a = 34, b = 25, c = [1,2,3,4,5,6], d = ('sudh', 'pwskills'))"
      ],
      "metadata": {
        "colab": {
          "base_uri": "https://localhost:8080/"
        },
        "id": "iXKuYqNWSS3a",
        "outputId": "76e1de09-3f7e-4541-96d6-81763f5c0614"
      },
      "execution_count": 17,
      "outputs": [
        {
          "output_type": "execute_result",
          "data": {
            "text/plain": [
              "{'a': 34, 'b': 25, 'c': [1, 2, 3, 4, 5, 6], 'd': ('sudh', 'pwskills')}"
            ]
          },
          "metadata": {},
          "execution_count": 17
        }
      ]
    },
    {
      "cell_type": "code",
      "source": [
        "def test6(**kwargs):\n",
        "  for i in kwargs.keys():\n",
        "    if type(kwargs[i]) == list:\n",
        "      return i, kwargs[i]"
      ],
      "metadata": {
        "id": "3MrCn_GGSk54"
      },
      "execution_count": 18,
      "outputs": []
    },
    {
      "cell_type": "code",
      "source": [
        "test6(a = 34, b = 25, c = [1,2,3,4,5,6], d = ('sudh', 'pwskills'))"
      ],
      "metadata": {
        "colab": {
          "base_uri": "https://localhost:8080/"
        },
        "id": "l46qAy-sTGQW",
        "outputId": "5321fda1-a7cf-4c9c-9453-12a9cec45057"
      },
      "execution_count": 19,
      "outputs": [
        {
          "output_type": "execute_result",
          "data": {
            "text/plain": [
              "('c', [1, 2, 3, 4, 5, 6])"
            ]
          },
          "metadata": {},
          "execution_count": 19
        }
      ]
    },
    {
      "cell_type": "code",
      "source": [
        "def test7(*args , **kwargs):\n",
        "  return args, kwargs"
      ],
      "metadata": {
        "id": "ecMWh76gTK45"
      },
      "execution_count": 20,
      "outputs": []
    },
    {
      "cell_type": "code",
      "source": [
        "test7(2,2,3,4,5,a=25,b=38)"
      ],
      "metadata": {
        "colab": {
          "base_uri": "https://localhost:8080/"
        },
        "id": "zmpfUptcTdp5",
        "outputId": "dfe88391-ada5-4751-8e92-6e639a4139da"
      },
      "execution_count": 21,
      "outputs": [
        {
          "output_type": "execute_result",
          "data": {
            "text/plain": [
              "((2, 2, 3, 4, 5), {'a': 25, 'b': 38})"
            ]
          },
          "metadata": {},
          "execution_count": 21
        }
      ]
    },
    {
      "cell_type": "code",
      "source": [],
      "metadata": {
        "id": "xtW8ipsYTl4l"
      },
      "execution_count": null,
      "outputs": []
    }
  ]
}