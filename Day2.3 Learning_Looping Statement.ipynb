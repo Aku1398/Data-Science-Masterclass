{
 "cells": [
  {
   "cell_type": "markdown",
   "id": "09478998-203a-4c6f-9f3e-1996b775cd93",
   "metadata": {},
   "source": [
    "# Loops\n",
    "## Statement"
   ]
  },
  {
   "cell_type": "markdown",
   "id": "b1fc9d41-e8a9-4d43-bf31-51bcaee8965e",
   "metadata": {},
   "source": [
    "1. while loop\n",
    "2. for loop\n",
    "3. nested loops\n",
    "4. Loop control(break,continue,pass)"
   ]
  },
  {
   "cell_type": "code",
   "execution_count": 1,
   "id": "1c18301e-58c7-49f3-9106-0185f4eddc8e",
   "metadata": {},
   "outputs": [
    {
     "name": "stdout",
     "output_type": "stream",
     "text": [
      "25\n",
      "26\n",
      "27\n",
      "28\n",
      "29\n",
      "30\n",
      "31\n",
      "32\n",
      "33\n",
      "34\n",
      "35\n",
      "36\n",
      "37\n",
      "38\n",
      "39\n",
      "40\n",
      "41\n",
      "42\n",
      "43\n",
      "44\n",
      "45\n",
      "46\n",
      "47\n",
      "48\n",
      "49\n",
      "50\n",
      "51\n",
      "52\n",
      "53\n",
      "54\n",
      "55\n",
      "56\n",
      "57\n",
      "58\n",
      "59\n",
      "60\n",
      "It's time to retairement\n"
     ]
    }
   ],
   "source": [
    "joining_age=25\n",
    "while joining_age<=60:\n",
    "    print(joining_age)\n",
    "    joining_age=joining_age+1\n",
    "else:\n",
    "    print(\"It's time to retairement\")"
   ]
  },
  {
   "cell_type": "markdown",
   "id": "519eaa6b-d639-48ee-b8d9-0a3f64b3f5eb",
   "metadata": {},
   "source": [
    "## ATM Machine"
   ]
  },
  {
   "cell_type": "code",
   "execution_count": 2,
   "id": "e0171683-2700-4cf0-b7a8-166ff079d352",
   "metadata": {},
   "outputs": [
    {
     "name": "stdin",
     "output_type": "stream",
     "text": [
      "Enter the withdrawal amount 2001\n"
     ]
    },
    {
     "name": "stdout",
     "output_type": "stream",
     "text": [
      "You don't have 2001 amount present in your account\n"
     ]
    }
   ],
   "source": [
    "### ATM machine with 2000\n",
    "total_amount=2000\n",
    "withdrawal_amount=int(input(\"Enter the withdrawal amount\"))\n",
    "if withdrawal_amount<total_amount:\n",
    "    print(\"{} amount has been withdraw from your account\".format(withdrawal_amount))\n",
    "    print(\"Now your account balance is {}\".format(total_amount-withdrawal_amount))\n",
    "else:\n",
    "    print(\"You don't have {} amount present in your account\".format(withdrawal_amount))"
   ]
  },
  {
   "cell_type": "code",
   "execution_count": 3,
   "id": "6618dd0a-5619-44bf-a139-aab42f1ba509",
   "metadata": {},
   "outputs": [
    {
     "name": "stdin",
     "output_type": "stream",
     "text": [
      "Enter the withdrawal amount 1500\n"
     ]
    },
    {
     "name": "stdout",
     "output_type": "stream",
     "text": [
      "1500 amount has been withdraw from your account\n",
      "Now your account balance is 500\n"
     ]
    }
   ],
   "source": [
    "### ATM machine with 2000\n",
    "total_amount=2000\n",
    "withdrawal_amount=int(input(\"Enter the withdrawal amount\"))\n",
    "if withdrawal_amount<total_amount:\n",
    "    print(\"{} amount has been withdraw from your account\".format(withdrawal_amount))\n",
    "    print(\"Now your account balance is {}\".format(total_amount-withdrawal_amount))\n",
    "else:\n",
    "    print(\"You don't have {} amount present in your account\".format(withdrawal_amount))"
   ]
  },
  {
   "cell_type": "markdown",
   "id": "b7b9ca4a-0b71-4219-b8a6-a59b30166418",
   "metadata": {},
   "source": [
    "# While loop"
   ]
  },
  {
   "cell_type": "code",
   "execution_count": 12,
   "id": "9867e278-4588-46ea-ba00-6c5a13981104",
   "metadata": {},
   "outputs": [
    {
     "name": "stdout",
     "output_type": "stream",
     "text": [
      "1000\n",
      "900\n",
      "800\n",
      "700\n",
      "600\n",
      "500\n",
      "400\n",
      "300\n",
      "200\n",
      "100\n",
      "Put more money bank people\n",
      "Hello All\n"
     ]
    }
   ],
   "source": [
    "### Atm machine with 1000 rs\n",
    "total_amount=1000\n",
    "while total_amount!=0:\n",
    "    print(total_amount)\n",
    "    total_amount=total_amount-100\n",
    "else:\n",
    "    print(\"Put more money bank people\")\n",
    "    \n",
    "print(\"Hello All\")\n",
    "    "
   ]
  },
  {
   "cell_type": "markdown",
   "id": "44231650-4b22-474d-ad9c-6fd302244777",
   "metadata": {},
   "source": [
    "# For Loop"
   ]
  },
  {
   "cell_type": "code",
   "execution_count": 5,
   "id": "9c72e605-d201-4705-a0ca-6f8615a097b1",
   "metadata": {},
   "outputs": [],
   "source": [
    "li=[\"Krish\",12,23,3,4,\"apple\",\"banana\"]"
   ]
  },
  {
   "cell_type": "code",
   "execution_count": 6,
   "id": "b70f1cb7-e50a-4bd7-b347-ee950de581a4",
   "metadata": {},
   "outputs": [
    {
     "data": {
      "text/plain": [
       "list"
      ]
     },
     "execution_count": 6,
     "metadata": {},
     "output_type": "execute_result"
    }
   ],
   "source": [
    "type(li)"
   ]
  },
  {
   "cell_type": "code",
   "execution_count": 7,
   "id": "3527a526-ddca-4cab-8296-8c67f4f86544",
   "metadata": {},
   "outputs": [
    {
     "data": {
      "text/plain": [
       "'banana'"
      ]
     },
     "execution_count": 7,
     "metadata": {},
     "output_type": "execute_result"
    }
   ],
   "source": [
    "li[6]"
   ]
  },
  {
   "cell_type": "code",
   "execution_count": 8,
   "id": "b71db802-8786-4da7-9ee8-feb94bf8946b",
   "metadata": {},
   "outputs": [
    {
     "name": "stdout",
     "output_type": "stream",
     "text": [
      "Krish\n",
      "12\n",
      "23\n",
      "3\n",
      "4\n",
      "apple\n",
      "banana\n"
     ]
    }
   ],
   "source": [
    "for x in li:\n",
    "    print(x)"
   ]
  },
  {
   "cell_type": "code",
   "execution_count": 9,
   "id": "bce73279-b24d-44d6-8b31-8167e8d004ad",
   "metadata": {},
   "outputs": [],
   "source": [
    "fruits_list = [\"Mango\",\"Cherry\",\"Apple\",\"Papaya\",\"Banana\"]"
   ]
  },
  {
   "cell_type": "code",
   "execution_count": 10,
   "id": "ca92b73f-2376-4436-92fb-d80bf712b78d",
   "metadata": {},
   "outputs": [
    {
     "name": "stdout",
     "output_type": "stream",
     "text": [
      "Mango\n",
      "Cherry\n",
      "The fruit is cherry\n",
      "Apple\n",
      "Papaya\n",
      "Banana\n"
     ]
    }
   ],
   "source": [
    "for a in fruits_list:\n",
    "    print(a)\n",
    "    if a==\"Cherry\":\n",
    "        print(\"The fruit is cherry\")\n",
    "    "
   ]
  },
  {
   "cell_type": "code",
   "execution_count": 11,
   "id": "191f5309-11b9-40f7-a41d-f6cd5b604210",
   "metadata": {},
   "outputs": [
    {
     "name": "stdout",
     "output_type": "stream",
     "text": [
      "m\n",
      "a\n",
      "n\n",
      "g\n",
      "o\n"
     ]
    }
   ],
   "source": [
    "fruit='mango'\n",
    "for a in fruit:\n",
    "    print(a)"
   ]
  },
  {
   "cell_type": "code",
   "execution_count": 13,
   "id": "fdfe45c5-9348-41a9-b20f-47d553fd5a82",
   "metadata": {},
   "outputs": [
    {
     "data": {
      "text/plain": [
       "'g'"
      ]
     },
     "execution_count": 13,
     "metadata": {},
     "output_type": "execute_result"
    }
   ],
   "source": [
    "fruit[3]"
   ]
  },
  {
   "cell_type": "markdown",
   "id": "d66ff2c8-569b-40da-88b0-aeb30465676b",
   "metadata": {},
   "source": [
    "# Range()"
   ]
  },
  {
   "cell_type": "code",
   "execution_count": 15,
   "id": "31573400-8b82-4d52-83c8-5f1239632d14",
   "metadata": {},
   "outputs": [
    {
     "name": "stdout",
     "output_type": "stream",
     "text": [
      "1\n",
      "2\n",
      "3\n",
      "4\n",
      "5\n",
      "6\n",
      "7\n",
      "8\n",
      "9\n"
     ]
    }
   ],
   "source": [
    "for i in range(1,10):\n",
    "    print(i)"
   ]
  },
  {
   "cell_type": "code",
   "execution_count": 17,
   "id": "9c58ef72-3fad-4e99-a3a7-8420fbaf49fc",
   "metadata": {},
   "outputs": [
    {
     "name": "stdout",
     "output_type": "stream",
     "text": [
      "0\n",
      "2\n",
      "4\n",
      "6\n",
      "8\n",
      "10\n",
      "12\n"
     ]
    }
   ],
   "source": [
    "for i in range(0,13,2):\n",
    "    print(i)\n"
   ]
  },
  {
   "cell_type": "markdown",
   "id": "103eac25-cf47-4334-b615-168e45dd3d04",
   "metadata": {},
   "source": [
    "## Nested Loops"
   ]
  },
  {
   "cell_type": "code",
   "execution_count": 19,
   "id": "e4b95303-82a7-4095-b8b5-2b2de4acc8cd",
   "metadata": {},
   "outputs": [
    {
     "name": "stdout",
     "output_type": "stream",
     "text": [
      "*\n",
      "**\n",
      "***\n",
      "****\n",
      "*****\n",
      "******\n",
      "*******\n",
      "********\n",
      "*********\n",
      "**********\n"
     ]
    }
   ],
   "source": [
    "n=10\n",
    "for i in range(0,n):\n",
    "    for j in range(0,i+1):\n",
    "        print(\"*\",end=\"\")\n",
    "    print(\"\\r\")"
   ]
  },
  {
   "cell_type": "markdown",
   "id": "999601f3-9fe2-423e-985e-cc96a4f2211d",
   "metadata": {},
   "source": [
    "# Loops control\n",
    "### 1.Break\n",
    "### 2.Continue\n",
    "### 3.Pass"
   ]
  },
  {
   "cell_type": "code",
   "execution_count": 20,
   "id": "19e7dd0d-a0a9-4a65-aba6-e5ed3af2f72a",
   "metadata": {},
   "outputs": [],
   "source": [
    "##Loop controls\n",
    "## Break and continue\n",
    "fruits_list = [\"Mango\",\"Cherry\",\"Apple\",\"Papaya\",\"Banana\"]\n"
   ]
  },
  {
   "cell_type": "markdown",
   "id": "150643bd-b545-47a7-856e-9d879e96d0d9",
   "metadata": {},
   "source": [
    "#### 1. Break"
   ]
  },
  {
   "cell_type": "code",
   "execution_count": 21,
   "id": "aa48ebf3-482f-4cd2-8343-8a81f8b9af2b",
   "metadata": {},
   "outputs": [
    {
     "name": "stdout",
     "output_type": "stream",
     "text": [
      "Mango\n",
      "Cherry\n",
      "The fruit is apple\n"
     ]
    }
   ],
   "source": [
    "for i in fruits_list:\n",
    "    if i==\"Apple\":\n",
    "        print(\"The fruit is apple\")\n",
    "        break\n",
    "    print(i)"
   ]
  },
  {
   "cell_type": "markdown",
   "id": "542d8ed4-5a1e-4ddb-b99f-c38529daa2ef",
   "metadata": {},
   "source": [
    "#### 2. Continue"
   ]
  },
  {
   "cell_type": "code",
   "execution_count": 23,
   "id": "1478d256-080f-405d-ad6e-1e7e04002b59",
   "metadata": {},
   "outputs": [
    {
     "name": "stdout",
     "output_type": "stream",
     "text": [
      "Mango\n",
      "Cherry\n",
      "The fruit is apple\n",
      "Papaya\n",
      "Banana\n"
     ]
    }
   ],
   "source": [
    "##continue\n",
    "for i in fruits_list:\n",
    "    if i==\"Apple\":\n",
    "        print(\"The fruit is apple\")\n",
    "        continue\n",
    "    print(i)"
   ]
  },
  {
   "cell_type": "markdown",
   "id": "6fe3b583-63bd-4be9-8141-9e59b8dc21c2",
   "metadata": {},
   "source": [
    "#### 3. Pass"
   ]
  },
  {
   "cell_type": "code",
   "execution_count": 22,
   "id": "795d782d-7978-46ac-9a5d-62d107a335b4",
   "metadata": {},
   "outputs": [
    {
     "name": "stdout",
     "output_type": "stream",
     "text": [
      "Mango\n",
      "Cherry\n",
      "The fruit is apple\n",
      "Apple\n",
      "Papaya\n",
      "Banana\n"
     ]
    }
   ],
   "source": [
    "for i in fruits_list:\n",
    "    if i==\"Apple\":\n",
    "        print(\"The fruit is apple\")\n",
    "        pass\n",
    "    print(i)"
   ]
  },
  {
   "cell_type": "code",
   "execution_count": null,
   "id": "d6c51a57-58a8-4728-a61e-d58afc9a0d4d",
   "metadata": {},
   "outputs": [],
   "source": []
  }
 ],
 "metadata": {
  "kernelspec": {
   "display_name": "Python 3 (ipykernel)",
   "language": "python",
   "name": "python3"
  },
  "language_info": {
   "codemirror_mode": {
    "name": "ipython",
    "version": 3
   },
   "file_extension": ".py",
   "mimetype": "text/x-python",
   "name": "python",
   "nbconvert_exporter": "python",
   "pygments_lexer": "ipython3",
   "version": "3.10.8"
  }
 },
 "nbformat": 4,
 "nbformat_minor": 5
}
