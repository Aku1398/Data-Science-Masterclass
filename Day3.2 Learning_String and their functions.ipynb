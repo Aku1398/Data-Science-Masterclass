{
 "cells": [
  {
   "cell_type": "code",
   "execution_count": 1,
   "id": "abe80bc1-0aeb-4730-83fc-0e9b9addd118",
   "metadata": {},
   "outputs": [
    {
     "data": {
      "text/plain": [
       "'Welcom to the Data Science Manster class'"
      ]
     },
     "execution_count": 1,
     "metadata": {},
     "output_type": "execute_result"
    }
   ],
   "source": [
    "\"Welcom to the Data Science Manster class\""
   ]
  },
  {
   "cell_type": "code",
   "execution_count": 2,
   "id": "bdcc4a72-b18b-4a05-86b9-efbfc2427f63",
   "metadata": {},
   "outputs": [],
   "source": [
    "str1=\"Welcome to Pune\""
   ]
  },
  {
   "cell_type": "code",
   "execution_count": 3,
   "id": "845a5110-b492-4dee-8876-48675524a16e",
   "metadata": {},
   "outputs": [
    {
     "data": {
      "text/plain": [
       "str"
      ]
     },
     "execution_count": 3,
     "metadata": {},
     "output_type": "execute_result"
    }
   ],
   "source": [
    "type(str1)"
   ]
  },
  {
   "cell_type": "code",
   "execution_count": 4,
   "id": "1280d93c-fcda-4135-b994-c8453ff7311c",
   "metadata": {},
   "outputs": [
    {
     "ename": "TypeError",
     "evalue": "'str' object does not support item assignment",
     "output_type": "error",
     "traceback": [
      "\u001b[0;31m---------------------------------------------------------------------------\u001b[0m",
      "\u001b[0;31mTypeError\u001b[0m                                 Traceback (most recent call last)",
      "Cell \u001b[0;32mIn[4], line 2\u001b[0m\n\u001b[1;32m      1\u001b[0m \u001b[38;5;66;03m##immutable\u001b[39;00m\n\u001b[0;32m----> 2\u001b[0m \u001b[43mstr1\u001b[49m\u001b[43m[\u001b[49m\u001b[38;5;241;43m0\u001b[39;49m\u001b[43m]\u001b[49m\u001b[38;5;241m=\u001b[39m\u001b[38;5;241m12\u001b[39m\n",
      "\u001b[0;31mTypeError\u001b[0m: 'str' object does not support item assignment"
     ]
    }
   ],
   "source": [
    "##immutable\n",
    "str1[0]=12"
   ]
  },
  {
   "cell_type": "code",
   "execution_count": 5,
   "id": "365c30a2-23f8-4780-9b05-6beade7c9f08",
   "metadata": {},
   "outputs": [],
   "source": [
    "str1=\"Akash Rayate\""
   ]
  },
  {
   "cell_type": "code",
   "execution_count": 6,
   "id": "eccbde71-2765-4229-8a5e-1cccb6f24647",
   "metadata": {},
   "outputs": [
    {
     "data": {
      "text/plain": [
       "'Akash Rayate'"
      ]
     },
     "execution_count": 6,
     "metadata": {},
     "output_type": "execute_result"
    }
   ],
   "source": [
    "str1"
   ]
  },
  {
   "cell_type": "code",
   "execution_count": 7,
   "id": "9a2ffb3d-59ac-42d1-a5b7-1370939e2626",
   "metadata": {},
   "outputs": [],
   "source": [
    "welcome='Hello World'"
   ]
  },
  {
   "cell_type": "code",
   "execution_count": 9,
   "id": "6508e8e3-8d18-4d19-8bc6-419046bf724a",
   "metadata": {},
   "outputs": [
    {
     "data": {
      "text/plain": [
       "['__add__',\n",
       " '__class__',\n",
       " '__contains__',\n",
       " '__delattr__',\n",
       " '__dir__',\n",
       " '__doc__',\n",
       " '__eq__',\n",
       " '__format__',\n",
       " '__ge__',\n",
       " '__getattribute__',\n",
       " '__getitem__',\n",
       " '__getnewargs__',\n",
       " '__gt__',\n",
       " '__hash__',\n",
       " '__init__',\n",
       " '__init_subclass__',\n",
       " '__iter__',\n",
       " '__le__',\n",
       " '__len__',\n",
       " '__lt__',\n",
       " '__mod__',\n",
       " '__mul__',\n",
       " '__ne__',\n",
       " '__new__',\n",
       " '__reduce__',\n",
       " '__reduce_ex__',\n",
       " '__repr__',\n",
       " '__rmod__',\n",
       " '__rmul__',\n",
       " '__setattr__',\n",
       " '__sizeof__',\n",
       " '__str__',\n",
       " '__subclasshook__',\n",
       " 'capitalize',\n",
       " 'casefold',\n",
       " 'center',\n",
       " 'count',\n",
       " 'encode',\n",
       " 'endswith',\n",
       " 'expandtabs',\n",
       " 'find',\n",
       " 'format',\n",
       " 'format_map',\n",
       " 'index',\n",
       " 'isalnum',\n",
       " 'isalpha',\n",
       " 'isascii',\n",
       " 'isdecimal',\n",
       " 'isdigit',\n",
       " 'isidentifier',\n",
       " 'islower',\n",
       " 'isnumeric',\n",
       " 'isprintable',\n",
       " 'isspace',\n",
       " 'istitle',\n",
       " 'isupper',\n",
       " 'join',\n",
       " 'ljust',\n",
       " 'lower',\n",
       " 'lstrip',\n",
       " 'maketrans',\n",
       " 'partition',\n",
       " 'removeprefix',\n",
       " 'removesuffix',\n",
       " 'replace',\n",
       " 'rfind',\n",
       " 'rindex',\n",
       " 'rjust',\n",
       " 'rpartition',\n",
       " 'rsplit',\n",
       " 'rstrip',\n",
       " 'split',\n",
       " 'splitlines',\n",
       " 'startswith',\n",
       " 'strip',\n",
       " 'swapcase',\n",
       " 'title',\n",
       " 'translate',\n",
       " 'upper',\n",
       " 'zfill']"
      ]
     },
     "execution_count": 9,
     "metadata": {},
     "output_type": "execute_result"
    }
   ],
   "source": [
    "dir(welcome)"
   ]
  },
  {
   "cell_type": "code",
   "execution_count": 10,
   "id": "9327efd9-82c0-42b9-adbb-4a82ce067124",
   "metadata": {},
   "outputs": [],
   "source": [
    "string=\"PW Skills Data Science Master class\"\n"
   ]
  },
  {
   "cell_type": "code",
   "execution_count": 11,
   "id": "4d33c628-fcbf-4c20-96d2-a577d84ee87f",
   "metadata": {},
   "outputs": [
    {
     "data": {
      "text/plain": [
       "'i'"
      ]
     },
     "execution_count": 11,
     "metadata": {},
     "output_type": "execute_result"
    }
   ],
   "source": [
    "string[5]"
   ]
  },
  {
   "cell_type": "markdown",
   "id": "e90c61be-95d5-4077-a780-53154e948326",
   "metadata": {},
   "source": [
    "### Slicing Operation"
   ]
  },
  {
   "cell_type": "code",
   "execution_count": 12,
   "id": "5f19f5a7-43fc-44b2-8bf4-0a614051d573",
   "metadata": {},
   "outputs": [
    {
     "data": {
      "text/plain": [
       "'ills D'"
      ]
     },
     "execution_count": 12,
     "metadata": {},
     "output_type": "execute_result"
    }
   ],
   "source": [
    "string[5:11]"
   ]
  },
  {
   "cell_type": "code",
   "execution_count": 13,
   "id": "5439672a-56ea-4bb4-9781-aadc85488e4e",
   "metadata": {},
   "outputs": [
    {
     "data": {
      "text/plain": [
       "'PW Skills Data Science Master class'"
      ]
     },
     "execution_count": 13,
     "metadata": {},
     "output_type": "execute_result"
    }
   ],
   "source": [
    "string"
   ]
  },
  {
   "cell_type": "code",
   "execution_count": 14,
   "id": "2be993d2-01d6-4384-8dba-a74dc9d7fb56",
   "metadata": {},
   "outputs": [
    {
     "data": {
      "text/plain": [
       "'s'"
      ]
     },
     "execution_count": 14,
     "metadata": {},
     "output_type": "execute_result"
    }
   ],
   "source": [
    "string[-1]"
   ]
  },
  {
   "cell_type": "code",
   "execution_count": 15,
   "id": "bf668efa-9d38-47b2-86de-b0349b65aa72",
   "metadata": {},
   "outputs": [
    {
     "data": {
      "text/plain": [
       "'ass'"
      ]
     },
     "execution_count": 15,
     "metadata": {},
     "output_type": "execute_result"
    }
   ],
   "source": [
    "string[-3:]"
   ]
  },
  {
   "cell_type": "code",
   "execution_count": 16,
   "id": "c7e71f7d-f83e-4c4a-8563-ac904b9a0ece",
   "metadata": {},
   "outputs": [
    {
     "data": {
      "text/plain": [
       "'r cl'"
      ]
     },
     "execution_count": 16,
     "metadata": {},
     "output_type": "execute_result"
    }
   ],
   "source": [
    "string[-7:-3]"
   ]
  },
  {
   "cell_type": "code",
   "execution_count": 17,
   "id": "67b9dca1-b2a5-434c-a9e0-8b8e8b6ff888",
   "metadata": {},
   "outputs": [
    {
     "data": {
      "text/plain": [
       "''"
      ]
     },
     "execution_count": 17,
     "metadata": {},
     "output_type": "execute_result"
    }
   ],
   "source": [
    "string[7:3]"
   ]
  },
  {
   "cell_type": "code",
   "execution_count": 18,
   "id": "8061a15a-8ff2-47f7-9e42-16ae923c6b6b",
   "metadata": {},
   "outputs": [
    {
     "data": {
      "text/plain": [
       "''"
      ]
     },
     "execution_count": 18,
     "metadata": {},
     "output_type": "execute_result"
    }
   ],
   "source": [
    "string[-10:10]"
   ]
  },
  {
   "cell_type": "code",
   "execution_count": 19,
   "id": "ce9c4901-e1b5-4399-8f7f-878432794782",
   "metadata": {},
   "outputs": [
    {
     "data": {
      "text/plain": [
       "'PW Skills Data Science Master clas'"
      ]
     },
     "execution_count": 19,
     "metadata": {},
     "output_type": "execute_result"
    }
   ],
   "source": [
    "string[:-1]"
   ]
  },
  {
   "cell_type": "code",
   "execution_count": 20,
   "id": "fb73494c-4791-447f-b010-fb469283f23e",
   "metadata": {},
   "outputs": [
    {
     "data": {
      "text/plain": [
       "'PW Skills Data Science Master class'"
      ]
     },
     "execution_count": 20,
     "metadata": {},
     "output_type": "execute_result"
    }
   ],
   "source": [
    "string[:]"
   ]
  },
  {
   "cell_type": "code",
   "execution_count": 22,
   "id": "2fe8d247-8341-40f5-b869-a3e6f30573c1",
   "metadata": {},
   "outputs": [
    {
     "data": {
      "text/plain": [
       "'Aka'"
      ]
     },
     "execution_count": 22,
     "metadata": {},
     "output_type": "execute_result"
    }
   ],
   "source": [
    "name=\"Akash\"\n",
    "name[-5:3]"
   ]
  },
  {
   "cell_type": "code",
   "execution_count": 23,
   "id": "6a17da09-5b90-43f3-8fad-18e370a93aa3",
   "metadata": {},
   "outputs": [
    {
     "data": {
      "text/plain": [
       "'PW Skills Data Science Master class'"
      ]
     },
     "execution_count": 23,
     "metadata": {},
     "output_type": "execute_result"
    }
   ],
   "source": [
    "string"
   ]
  },
  {
   "cell_type": "code",
   "execution_count": 24,
   "id": "30715762-43be-4bed-8bb9-85d728077e09",
   "metadata": {},
   "outputs": [
    {
     "data": {
      "text/plain": [
       "'ssalc retsaM ecneicS ataD sllikS WP'"
      ]
     },
     "execution_count": 24,
     "metadata": {},
     "output_type": "execute_result"
    }
   ],
   "source": [
    "string[::-1]"
   ]
  },
  {
   "cell_type": "code",
   "execution_count": 25,
   "id": "8056d54c-c931-4624-8d77-c3dbc7f00bbb",
   "metadata": {},
   "outputs": [
    {
     "data": {
      "text/plain": [
       "'sacrta cec tDslk P'"
      ]
     },
     "execution_count": 25,
     "metadata": {},
     "output_type": "execute_result"
    }
   ],
   "source": [
    "string[::-2]"
   ]
  },
  {
   "cell_type": "code",
   "execution_count": 26,
   "id": "ea1fa50f-2fd7-454f-859c-5e7c54d97fa1",
   "metadata": {},
   "outputs": [
    {
     "data": {
      "text/plain": [
       "'slrs ncaDlkW'"
      ]
     },
     "execution_count": 26,
     "metadata": {},
     "output_type": "execute_result"
    }
   ],
   "source": [
    "string[::-3]"
   ]
  },
  {
   "cell_type": "code",
   "execution_count": 27,
   "id": "288a58af-c8f3-4350-b1ac-68775fd485b9",
   "metadata": {},
   "outputs": [
    {
     "data": {
      "text/plain": [
       "'PW Skills Data Science Master class'"
      ]
     },
     "execution_count": 27,
     "metadata": {},
     "output_type": "execute_result"
    }
   ],
   "source": [
    "string"
   ]
  },
  {
   "cell_type": "code",
   "execution_count": 28,
   "id": "9f3c2f76-663a-4c65-8f09-4de68f7e09e1",
   "metadata": {},
   "outputs": [
    {
     "data": {
      "text/plain": [
       "'Skills Data Science Master class'"
      ]
     },
     "execution_count": 28,
     "metadata": {},
     "output_type": "execute_result"
    }
   ],
   "source": [
    "string[3::]"
   ]
  },
  {
   "cell_type": "code",
   "execution_count": 29,
   "id": "be87fbc7-4adc-43a7-ab8a-5a9b68353bfd",
   "metadata": {},
   "outputs": [
    {
     "data": {
      "text/plain": [
       "'ills Data Science Master class'"
      ]
     },
     "execution_count": 29,
     "metadata": {},
     "output_type": "execute_result"
    }
   ],
   "source": [
    "string[5::]"
   ]
  },
  {
   "cell_type": "code",
   "execution_count": 30,
   "id": "364a6ee7-56dc-40c3-9ae5-5185218dd453",
   "metadata": {},
   "outputs": [],
   "source": [
    "course_name=\"Data Science Master Class\""
   ]
  },
  {
   "cell_type": "code",
   "execution_count": 31,
   "id": "9266a1be-edde-4593-bc4c-d283e074ab18",
   "metadata": {},
   "outputs": [
    {
     "data": {
      "text/plain": [
       "'Data Science Master Class'"
      ]
     },
     "execution_count": 31,
     "metadata": {},
     "output_type": "execute_result"
    }
   ],
   "source": [
    "course_name"
   ]
  },
  {
   "cell_type": "code",
   "execution_count": 35,
   "id": "08553ae6-791f-459d-bc52-5dbae8c1bb22",
   "metadata": {},
   "outputs": [
    {
     "data": {
      "text/plain": [
       "'neicS a'"
      ]
     },
     "execution_count": 35,
     "metadata": {},
     "output_type": "execute_result"
    }
   ],
   "source": [
    "course_name[9:2:-1]"
   ]
  },
  {
   "cell_type": "code",
   "execution_count": 36,
   "id": "1430fbfb-61f4-4556-a25c-ea6f090676a1",
   "metadata": {},
   "outputs": [
    {
     "data": {
      "text/plain": [
       "' cec'"
      ]
     },
     "execution_count": 36,
     "metadata": {},
     "output_type": "execute_result"
    }
   ],
   "source": [
    "course_name[12:4:-2]"
   ]
  },
  {
   "cell_type": "code",
   "execution_count": 38,
   "id": "fb0958c6-0f02-4c9c-90de-5962b73b316a",
   "metadata": {},
   "outputs": [
    {
     "data": {
      "text/plain": [
       "'t cec'"
      ]
     },
     "execution_count": 38,
     "metadata": {},
     "output_type": "execute_result"
    }
   ],
   "source": [
    "course_name[2:12:2]"
   ]
  },
  {
   "cell_type": "markdown",
   "id": "66b206ec-ef43-4a64-b6dc-0c0ca71300f3",
   "metadata": {},
   "source": [
    "# concatination"
   ]
  },
  {
   "cell_type": "code",
   "execution_count": 43,
   "id": "402fd423-2326-4b2e-888c-3b12f21d1f10",
   "metadata": {},
   "outputs": [
    {
     "ename": "SyntaxError",
     "evalue": "invalid syntax (2097493596.py, line 1)",
     "output_type": "error",
     "traceback": [
      "\u001b[0;36m  Cell \u001b[0;32mIn[43], line 1\u001b[0;36m\u001b[0m\n\u001b[0;31m    class=\"Master Class\"\u001b[0m\n\u001b[0m         ^\u001b[0m\n\u001b[0;31mSyntaxError\u001b[0m\u001b[0;31m:\u001b[0m invalid syntax\n"
     ]
    }
   ],
   "source": [
    "class=\"Master Class\"\n",
    "course=\"Data Science\"\n",
    "\n",
    "#concatination\n",
    "course + \"Master_Class\""
   ]
  },
  {
   "cell_type": "code",
   "execution_count": 42,
   "id": "2ae3af5e-90de-4858-8098-56badd6dbdfd",
   "metadata": {},
   "outputs": [
    {
     "ename": "NameError",
     "evalue": "name 'course' is not defined",
     "output_type": "error",
     "traceback": [
      "\u001b[0;31m---------------------------------------------------------------------------\u001b[0m",
      "\u001b[0;31mNameError\u001b[0m                                 Traceback (most recent call last)",
      "Cell \u001b[0;32mIn[42], line 1\u001b[0m\n\u001b[0;32m----> 1\u001b[0m \u001b[43mcourse\u001b[49m \u001b[38;5;241m+\u001b[39m \u001b[38;5;124m\"\u001b[39m\u001b[38;5;124mMaster Class\u001b[39m\u001b[38;5;124m\"\u001b[39m\n",
      "\u001b[0;31mNameError\u001b[0m: name 'course' is not defined"
     ]
    }
   ],
   "source": [
    "course + \"Master Class\""
   ]
  },
  {
   "cell_type": "code",
   "execution_count": 45,
   "id": "8f5bb0a8-48e3-4d4d-8546-57045d31f052",
   "metadata": {},
   "outputs": [
    {
     "data": {
      "text/plain": [
       "'Data Science Master Class'"
      ]
     },
     "execution_count": 45,
     "metadata": {},
     "output_type": "execute_result"
    }
   ],
   "source": [
    "course_name"
   ]
  },
  {
   "cell_type": "code",
   "execution_count": 47,
   "id": "d34fd1b8-b77d-4814-b6ea-311efbbedee2",
   "metadata": {},
   "outputs": [
    {
     "data": {
      "text/plain": [
       "'Data Science Master ClassNew one'"
      ]
     },
     "execution_count": 47,
     "metadata": {},
     "output_type": "execute_result"
    }
   ],
   "source": [
    "course_name + \"New one\""
   ]
  },
  {
   "cell_type": "code",
   "execution_count": 48,
   "id": "2793bb05-d0f7-4e7d-b869-8fd1c6aa50b8",
   "metadata": {},
   "outputs": [
    {
     "name": "stdout",
     "output_type": "stream",
     "text": [
      "HelloWorlds\n"
     ]
    }
   ],
   "source": [
    "print(\"Hello\" + \"Worlds\")"
   ]
  },
  {
   "cell_type": "code",
   "execution_count": 49,
   "id": "4b8403ba-58e2-4aad-a262-3f707f32014c",
   "metadata": {},
   "outputs": [
    {
     "data": {
      "text/plain": [
       "'Data Science Master ClassData Science Master ClassData Science Master ClassData Science Master ClassData Science Master Class'"
      ]
     },
     "execution_count": 49,
     "metadata": {},
     "output_type": "execute_result"
    }
   ],
   "source": [
    "course_name*5"
   ]
  },
  {
   "cell_type": "code",
   "execution_count": 50,
   "id": "3f6de9d8-d957-49ca-b6b6-bd9219973a4a",
   "metadata": {},
   "outputs": [
    {
     "data": {
      "text/plain": [
       "25"
      ]
     },
     "execution_count": 50,
     "metadata": {},
     "output_type": "execute_result"
    }
   ],
   "source": [
    "len(course_name)"
   ]
  },
  {
   "cell_type": "markdown",
   "id": "508d94f7-8c50-4476-b197-7c8cf85ef180",
   "metadata": {},
   "source": [
    "# String Function"
   ]
  },
  {
   "cell_type": "markdown",
   "id": "3b7c907f-841b-4d8f-9404-667c6296271f",
   "metadata": {},
   "source": [
    "### find() function"
   ]
  },
  {
   "cell_type": "code",
   "execution_count": 51,
   "id": "131d7707-ac2f-4abb-b7e1-43dafe501bf7",
   "metadata": {},
   "outputs": [
    {
     "data": {
      "text/plain": [
       "'Data Science Master Class'"
      ]
     },
     "execution_count": 51,
     "metadata": {},
     "output_type": "execute_result"
    }
   ],
   "source": [
    "course_name"
   ]
  },
  {
   "cell_type": "code",
   "execution_count": 52,
   "id": "9542b937-a08f-489a-a450-b51dd246c8ae",
   "metadata": {},
   "outputs": [
    {
     "data": {
      "text/plain": [
       "9"
      ]
     },
     "execution_count": 52,
     "metadata": {},
     "output_type": "execute_result"
    }
   ],
   "source": [
    "course_name.find(\"n\")"
   ]
  },
  {
   "cell_type": "code",
   "execution_count": 53,
   "id": "d2def642-1542-474d-8bf6-c7905787ac79",
   "metadata": {},
   "outputs": [
    {
     "data": {
      "text/plain": [
       "3"
      ]
     },
     "execution_count": 53,
     "metadata": {},
     "output_type": "execute_result"
    }
   ],
   "source": [
    "course_name.find(\"a\",2,10)"
   ]
  },
  {
   "cell_type": "code",
   "execution_count": 54,
   "id": "59ac269d-7ed0-4737-9652-a362509c3b62",
   "metadata": {},
   "outputs": [
    {
     "data": {
      "text/plain": [
       "15"
      ]
     },
     "execution_count": 54,
     "metadata": {},
     "output_type": "execute_result"
    }
   ],
   "source": [
    "course_name.find(\"s\")"
   ]
  },
  {
   "cell_type": "code",
   "execution_count": 55,
   "id": "133a2ab1-b7d6-4c03-837f-09e27cb5ad96",
   "metadata": {},
   "outputs": [
    {
     "data": {
      "text/plain": [
       "'Data Science Master Class'"
      ]
     },
     "execution_count": 55,
     "metadata": {},
     "output_type": "execute_result"
    }
   ],
   "source": [
    "course_name"
   ]
  },
  {
   "cell_type": "markdown",
   "id": "4f759d50-98d8-424d-890d-bfa26cd4c7c9",
   "metadata": {},
   "source": [
    "### count() function"
   ]
  },
  {
   "cell_type": "code",
   "execution_count": 57,
   "id": "dc9c5f65-1e7f-46c9-a0d1-ae2b9ba0e82b",
   "metadata": {},
   "outputs": [
    {
     "data": {
      "text/plain": [
       "4"
      ]
     },
     "execution_count": 57,
     "metadata": {},
     "output_type": "execute_result"
    }
   ],
   "source": [
    "course_name.count('a')"
   ]
  },
  {
   "cell_type": "code",
   "execution_count": 58,
   "id": "95f664f4-1dca-4a56-a832-996f04cba8c7",
   "metadata": {},
   "outputs": [
    {
     "data": {
      "text/plain": [
       "3"
      ]
     },
     "execution_count": 58,
     "metadata": {},
     "output_type": "execute_result"
    }
   ],
   "source": [
    "course_name.count(' ')"
   ]
  },
  {
   "cell_type": "code",
   "execution_count": 59,
   "id": "9dcfda05-79ce-4937-9c64-69b42d4defb7",
   "metadata": {},
   "outputs": [
    {
     "data": {
      "text/plain": [
       "26"
      ]
     },
     "execution_count": 59,
     "metadata": {},
     "output_type": "execute_result"
    }
   ],
   "source": [
    "course_name.count('')"
   ]
  },
  {
   "cell_type": "code",
   "execution_count": 60,
   "id": "da1803e6-6d09-477b-9013-3b6b7565df6b",
   "metadata": {},
   "outputs": [
    {
     "data": {
      "text/plain": [
       "'Data Science Master Class'"
      ]
     },
     "execution_count": 60,
     "metadata": {},
     "output_type": "execute_result"
    }
   ],
   "source": [
    "course_name"
   ]
  },
  {
   "cell_type": "code",
   "execution_count": 61,
   "id": "f9923f0c-8a6e-4f48-a86b-52de66cddce0",
   "metadata": {},
   "outputs": [
    {
     "data": {
      "text/plain": [
       "'ssalC retsaM ecneicS ataD'"
      ]
     },
     "execution_count": 61,
     "metadata": {},
     "output_type": "execute_result"
    }
   ],
   "source": [
    "course_name[::-1]"
   ]
  },
  {
   "cell_type": "markdown",
   "id": "e926bb83-e0c0-4276-a510-0921c17e2de2",
   "metadata": {},
   "source": [
    "### split() function"
   ]
  },
  {
   "cell_type": "code",
   "execution_count": 62,
   "id": "c22e21b7-bb20-4bc2-811a-7102c235f1f1",
   "metadata": {},
   "outputs": [
    {
     "data": {
      "text/plain": [
       "['Data Science Ma', 'ter Cla', '', '']"
      ]
     },
     "execution_count": 62,
     "metadata": {},
     "output_type": "execute_result"
    }
   ],
   "source": [
    "course_name.split('s')"
   ]
  },
  {
   "cell_type": "code",
   "execution_count": 63,
   "id": "51af974a-3d53-40ad-9274-090da47ccc19",
   "metadata": {},
   "outputs": [
    {
     "data": {
      "text/plain": [
       "['Data ', 'cience Master Class']"
      ]
     },
     "execution_count": 63,
     "metadata": {},
     "output_type": "execute_result"
    }
   ],
   "source": [
    "course_name.split('S')"
   ]
  },
  {
   "cell_type": "markdown",
   "id": "618194f8-5591-4654-bf32-59c074d71e54",
   "metadata": {},
   "source": [
    "### Partition"
   ]
  },
  {
   "cell_type": "code",
   "execution_count": 65,
   "id": "23f25bd2-e3b6-4440-b9a3-b65843c004f9",
   "metadata": {},
   "outputs": [
    {
     "data": {
      "text/plain": [
       "('Data Science Ma', 's', 'ter Class')"
      ]
     },
     "execution_count": 65,
     "metadata": {},
     "output_type": "execute_result"
    }
   ],
   "source": [
    "course_name.partition('s')"
   ]
  },
  {
   "cell_type": "code",
   "execution_count": 66,
   "id": "fd3f82f5-c3fd-4477-a048-b5e17e4a3e2f",
   "metadata": {},
   "outputs": [
    {
     "data": {
      "text/plain": [
       "'DATA SCIENCE MASTER CLASS'"
      ]
     },
     "execution_count": 66,
     "metadata": {},
     "output_type": "execute_result"
    }
   ],
   "source": [
    "course_name.upper()"
   ]
  },
  {
   "cell_type": "code",
   "execution_count": 67,
   "id": "b6726fef-382d-40d8-b034-a7bacb3456d6",
   "metadata": {},
   "outputs": [
    {
     "data": {
      "text/plain": [
       "'data science master class'"
      ]
     },
     "execution_count": 67,
     "metadata": {},
     "output_type": "execute_result"
    }
   ],
   "source": [
    "course_name.lower()"
   ]
  },
  {
   "cell_type": "code",
   "execution_count": 68,
   "id": "fff6c6a3-50ab-48d7-bdb1-7024e27225fc",
   "metadata": {},
   "outputs": [
    {
     "data": {
      "text/plain": [
       "'Data Science Master Class'"
      ]
     },
     "execution_count": 68,
     "metadata": {},
     "output_type": "execute_result"
    }
   ],
   "source": [
    "course_name"
   ]
  },
  {
   "cell_type": "code",
   "execution_count": 69,
   "id": "4f7acaf3-b668-455c-9107-0511e2324a76",
   "metadata": {},
   "outputs": [
    {
     "data": {
      "text/plain": [
       "'dATA sCIENCE mASTER cLASS'"
      ]
     },
     "execution_count": 69,
     "metadata": {},
     "output_type": "execute_result"
    }
   ],
   "source": [
    "course_name.swapcase()"
   ]
  },
  {
   "cell_type": "code",
   "execution_count": 70,
   "id": "2fcc0edc-2875-4b46-8858-ccf3af4a3c7f",
   "metadata": {},
   "outputs": [
    {
     "data": {
      "text/plain": [
       "'Data Science Master Class'"
      ]
     },
     "execution_count": 70,
     "metadata": {},
     "output_type": "execute_result"
    }
   ],
   "source": [
    "course_name.title()"
   ]
  },
  {
   "cell_type": "code",
   "execution_count": 71,
   "id": "673d0fa8-cafb-431e-a124-0311e3b3fd5d",
   "metadata": {},
   "outputs": [],
   "source": [
    "name=\"akash rayate\""
   ]
  },
  {
   "cell_type": "code",
   "execution_count": 72,
   "id": "00b9c273-810c-4bc9-bd5f-ce27cc532780",
   "metadata": {},
   "outputs": [
    {
     "data": {
      "text/plain": [
       "'Akash Rayate'"
      ]
     },
     "execution_count": 72,
     "metadata": {},
     "output_type": "execute_result"
    }
   ],
   "source": [
    "name.title()"
   ]
  },
  {
   "cell_type": "code",
   "execution_count": 73,
   "id": "4f58d2c0-4ec0-4c57-8ae1-b5f2b35a7222",
   "metadata": {},
   "outputs": [
    {
     "data": {
      "text/plain": [
       "'-0b10'"
      ]
     },
     "execution_count": 73,
     "metadata": {},
     "output_type": "execute_result"
    }
   ],
   "source": [
    "bin(-2)"
   ]
  },
  {
   "cell_type": "code",
   "execution_count": 74,
   "id": "7287ba47-40db-407f-87be-70ec7b5b0e65",
   "metadata": {},
   "outputs": [
    {
     "data": {
      "text/plain": [
       "25"
      ]
     },
     "execution_count": 74,
     "metadata": {},
     "output_type": "execute_result"
    }
   ],
   "source": [
    "len(course_name)"
   ]
  },
  {
   "cell_type": "code",
   "execution_count": 75,
   "id": "bb8cb87d-fc95-4391-95f1-e0d19e71dc3a",
   "metadata": {},
   "outputs": [
    {
     "data": {
      "text/plain": [
       "26"
      ]
     },
     "execution_count": 75,
     "metadata": {},
     "output_type": "execute_result"
    }
   ],
   "source": [
    "course_name.count('')"
   ]
  },
  {
   "cell_type": "code",
   "execution_count": 76,
   "id": "1e3b59f3-5f23-423d-945e-b36eebbbad10",
   "metadata": {},
   "outputs": [
    {
     "data": {
      "text/plain": [
       "'Data Science Master Class'"
      ]
     },
     "execution_count": 76,
     "metadata": {},
     "output_type": "execute_result"
    }
   ],
   "source": [
    "course_name"
   ]
  },
  {
   "cell_type": "markdown",
   "id": "b52ef33e-2358-405b-a1c1-c485e09f59e4",
   "metadata": {},
   "source": [
    "# Assignment"
   ]
  },
  {
   "cell_type": "code",
   "execution_count": 80,
   "id": "0fa70728-70cb-460c-987e-52504c15162b",
   "metadata": {},
   "outputs": [
    {
     "name": "stdin",
     "output_type": "stream",
     "text": [
      "Enter the triangle Length: 5\n"
     ]
    },
    {
     "name": "stdout",
     "output_type": "stream",
     "text": [
      "     *\n",
      "    **\n",
      "   ****\n",
      "  ******\n",
      " ********\n"
     ]
    }
   ],
   "source": [
    "## Assignments\n",
    "size = int(input(\"Enter the triangle Length:\"))\n",
    "for i in range(size):\n",
    "    for j in range(size-i):\n",
    "        print(\"\",end=\" \")\n",
    "    for k in range(i+1) :\n",
    "        print(\"*\",end=\"\")\n",
    "    for m in range(k-1):\n",
    "        print(\"*\", end=\"\")\n",
    "    print()\n"
   ]
  },
  {
   "cell_type": "code",
   "execution_count": 81,
   "id": "6adc88c6-48ff-4be4-9a98-889171585fd3",
   "metadata": {},
   "outputs": [
    {
     "name": "stdout",
     "output_type": "stream",
     "text": [
      "          *\n",
      "         ***\n",
      "        *****\n",
      "       *******\n",
      "      *********\n",
      "     ***********\n",
      "    *************\n",
      "   ***************\n",
      "  *****************\n",
      " *******************\n"
     ]
    }
   ],
   "source": [
    "## solution 2\n",
    "n = 10\n",
    "for i in range(n):\n",
    "    print(\" \"*(n-i),end='')\n",
    "    for j in range(i*2+1):\n",
    "        print(\"*\",end=\"\")\n",
    "    print()\n"
   ]
  },
  {
   "cell_type": "code",
   "execution_count": null,
   "id": "35de71cb-0a48-499b-a7ac-263bb385fd10",
   "metadata": {},
   "outputs": [],
   "source": []
  },
  {
   "cell_type": "code",
   "execution_count": null,
   "id": "a3b3dfd8-2b5c-440c-9a0a-9d9b2a06fbd2",
   "metadata": {},
   "outputs": [],
   "source": []
  },
  {
   "cell_type": "code",
   "execution_count": null,
   "id": "4f9a9926-5dfa-4c23-92c3-add6dc70b4be",
   "metadata": {},
   "outputs": [],
   "source": []
  }
 ],
 "metadata": {
  "kernelspec": {
   "display_name": "Python 3 (ipykernel)",
   "language": "python",
   "name": "python3"
  },
  "language_info": {
   "codemirror_mode": {
    "name": "ipython",
    "version": 3
   },
   "file_extension": ".py",
   "mimetype": "text/x-python",
   "name": "python",
   "nbconvert_exporter": "python",
   "pygments_lexer": "ipython3",
   "version": "3.10.8"
  }
 },
 "nbformat": 4,
 "nbformat_minor": 5
}
