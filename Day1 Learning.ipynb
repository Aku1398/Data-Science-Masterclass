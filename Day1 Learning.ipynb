{
 "cells": [
  {
   "cell_type": "code",
   "execution_count": 1,
   "id": "00fc7ffc-1000-4e9e-ac34-b3b299f609d6",
   "metadata": {},
   "outputs": [
    {
     "data": {
      "text/plain": [
       "3"
      ]
     },
     "execution_count": 1,
     "metadata": {},
     "output_type": "execute_result"
    }
   ],
   "source": []
  },
  {
   "cell_type": "code",
   "execution_count": 11,
   "id": "a59bbb88-eb94-427b-b071-c208808ea4ed",
   "metadata": {},
   "outputs": [
    {
     "name": "stdout",
     "output_type": "stream",
     "text": [
      "7\n"
     ]
    }
   ],
   "source": [
    "print(d)"
   ]
  },
  {
   "cell_type": "code",
   "execution_count": 10,
   "id": "30c9a087-a6c5-4d30-ab62-b657d3b97a2a",
   "metadata": {},
   "outputs": [
    {
     "name": "stdout",
     "output_type": "stream",
     "text": [
      "3\n",
      "7\n"
     ]
    }
   ],
   "source": [
    "###Comments\n",
    "#This is the addition process\n",
    "a=1\n",
    "b=2\n",
    "c = a+b\n",
    "print(c)\n",
    "d=c+4\n",
    "print(d)"
   ]
  },
  {
   "cell_type": "code",
   "execution_count": null,
   "id": "a65b7b82-dc06-4c6e-a8b3-da641fe4b17b",
   "metadata": {},
   "outputs": [],
   "source": []
  },
  {
   "cell_type": "code",
   "execution_count": 12,
   "id": "77764760-da03-4abe-a7ba-f85d24827506",
   "metadata": {},
   "outputs": [
    {
     "name": "stdout",
     "output_type": "stream",
     "text": [
      "3\n"
     ]
    }
   ],
   "source": [
    "\n",
    "print(c)\n"
   ]
  },
  {
   "cell_type": "markdown",
   "id": "41c0a696-11b3-4d79-8a5b-9f34a877a97f",
   "metadata": {},
   "source": [
    "# Hi\n",
    "## HI\n",
    "### Hi gyes\n",
    "\n",
    "1.hi my name is akash"
   ]
  },
  {
   "cell_type": "code",
   "execution_count": 13,
   "id": "9910ea13-883f-4bfd-87a5-21c3c762c272",
   "metadata": {},
   "outputs": [
    {
     "data": {
      "text/plain": [
       "3"
      ]
     },
     "execution_count": 13,
     "metadata": {},
     "output_type": "execute_result"
    }
   ],
   "source": [
    "#Numbers\n",
    "1+2"
   ]
  },
  {
   "cell_type": "code",
   "execution_count": 14,
   "id": "a0294e78-9ec0-43ea-a690-663b30263d12",
   "metadata": {},
   "outputs": [
    {
     "name": "stdout",
     "output_type": "stream",
     "text": [
      "9\n"
     ]
    }
   ],
   "source": [
    "print(2+7)"
   ]
  },
  {
   "cell_type": "markdown",
   "id": "e0de733e-40c7-4713-89b7-8e04deb60450",
   "metadata": {},
   "source": [
    "# Variables Assignment"
   ]
  },
  {
   "cell_type": "code",
   "execution_count": 15,
   "id": "81427d0d-e848-4577-94f9-d5042977e892",
   "metadata": {},
   "outputs": [],
   "source": [
    "name=\"Akash\"\n",
    "company=\"APK Pvt Ltd\""
   ]
  },
  {
   "cell_type": "code",
   "execution_count": 16,
   "id": "76da7802-2d1d-48cd-a728-6f8640f8e697",
   "metadata": {},
   "outputs": [
    {
     "data": {
      "text/plain": [
       "str"
      ]
     },
     "execution_count": 16,
     "metadata": {},
     "output_type": "execute_result"
    }
   ],
   "source": [
    "type(name)"
   ]
  },
  {
   "cell_type": "code",
   "execution_count": 17,
   "id": "20288bf5-8327-4e76-9e69-675f1013a9a6",
   "metadata": {},
   "outputs": [
    {
     "data": {
      "text/plain": [
       "str"
      ]
     },
     "execution_count": 17,
     "metadata": {},
     "output_type": "execute_result"
    }
   ],
   "source": [
    "type(company)"
   ]
  },
  {
   "cell_type": "code",
   "execution_count": 18,
   "id": "02e489d1-16da-44bd-8cbe-71c7a5266dc4",
   "metadata": {},
   "outputs": [
    {
     "data": {
      "text/plain": [
       "'Akash'"
      ]
     },
     "execution_count": 18,
     "metadata": {},
     "output_type": "execute_result"
    }
   ],
   "source": [
    "name"
   ]
  },
  {
   "cell_type": "code",
   "execution_count": 19,
   "id": "37ceb788-b1e6-441a-bece-18773531accd",
   "metadata": {},
   "outputs": [
    {
     "data": {
      "text/plain": [
       "'APK Pvt Ltd'"
      ]
     },
     "execution_count": 19,
     "metadata": {},
     "output_type": "execute_result"
    }
   ],
   "source": [
    "company"
   ]
  },
  {
   "cell_type": "code",
   "execution_count": 20,
   "id": "67859d68-c867-44d0-8b7b-0e2e901ad76f",
   "metadata": {},
   "outputs": [],
   "source": [
    "number=25"
   ]
  },
  {
   "cell_type": "code",
   "execution_count": 21,
   "id": "7ceb4de5-ed44-4aef-a187-9ab931198c12",
   "metadata": {},
   "outputs": [
    {
     "data": {
      "text/plain": [
       "int"
      ]
     },
     "execution_count": 21,
     "metadata": {},
     "output_type": "execute_result"
    }
   ],
   "source": [
    "type(number)"
   ]
  },
  {
   "cell_type": "code",
   "execution_count": 22,
   "id": "b7662f0c-b694-4f5c-a85c-24c7cdb731fc",
   "metadata": {},
   "outputs": [
    {
     "data": {
      "text/plain": [
       "1398"
      ]
     },
     "execution_count": 22,
     "metadata": {},
     "output_type": "execute_result"
    }
   ],
   "source": [
    "number=1398\n",
    "number"
   ]
  },
  {
   "cell_type": "code",
   "execution_count": 23,
   "id": "a0d49e4e-2b57-473f-941e-4d15d0d725c9",
   "metadata": {},
   "outputs": [],
   "source": [
    "decimal_num=1.3"
   ]
  },
  {
   "cell_type": "code",
   "execution_count": 24,
   "id": "bdcfd79d-fe84-40da-ab9c-90d8eda598f9",
   "metadata": {},
   "outputs": [
    {
     "data": {
      "text/plain": [
       "float"
      ]
     },
     "execution_count": 24,
     "metadata": {},
     "output_type": "execute_result"
    }
   ],
   "source": [
    "type(decimal_num)"
   ]
  },
  {
   "cell_type": "code",
   "execution_count": 25,
   "id": "eb7ad0c4-d4b5-452f-89ed-61dbd233cafa",
   "metadata": {},
   "outputs": [],
   "source": [
    "string=\"string init\""
   ]
  },
  {
   "cell_type": "code",
   "execution_count": 26,
   "id": "bbbe0d32-64cc-4787-9da0-97850a1dc2f0",
   "metadata": {},
   "outputs": [
    {
     "data": {
      "text/plain": [
       "'string init'"
      ]
     },
     "execution_count": 26,
     "metadata": {},
     "output_type": "execute_result"
    }
   ],
   "source": [
    "string"
   ]
  },
  {
   "cell_type": "code",
   "execution_count": 27,
   "id": "f5bb09ab-233d-41aa-b05c-801e2a21bbdb",
   "metadata": {},
   "outputs": [
    {
     "name": "stdout",
     "output_type": "stream",
     "text": [
      "string init\n"
     ]
    }
   ],
   "source": [
    "print(string)"
   ]
  },
  {
   "cell_type": "code",
   "execution_count": 28,
   "id": "44311105-8cd2-4232-b43e-84c2cb2f22d5",
   "metadata": {},
   "outputs": [
    {
     "data": {
      "text/plain": [
       "str"
      ]
     },
     "execution_count": 28,
     "metadata": {},
     "output_type": "execute_result"
    }
   ],
   "source": [
    "type(string)"
   ]
  },
  {
   "cell_type": "code",
   "execution_count": 29,
   "id": "2b259435-34c9-4deb-8ac0-b951271ce582",
   "metadata": {},
   "outputs": [
    {
     "ename": "SyntaxError",
     "evalue": "invalid decimal literal (4208879953.py, line 2)",
     "output_type": "error",
     "traceback": [
      "\u001b[0;36m  Cell \u001b[0;32mIn[29], line 2\u001b[0;36m\u001b[0m\n\u001b[0;31m    1a\u001b[0m\n\u001b[0m    ^\u001b[0m\n\u001b[0;31mSyntaxError\u001b[0m\u001b[0;31m:\u001b[0m invalid decimal literal\n"
     ]
    }
   ],
   "source": [
    "##bad way to repesentation in python\n",
    "1a\n",
    "3que"
   ]
  },
  {
   "cell_type": "code",
   "execution_count": 30,
   "id": "51c2dce5-1c31-4abd-81f4-e2a3a926d52c",
   "metadata": {},
   "outputs": [
    {
     "data": {
      "text/plain": [
       "23"
      ]
     },
     "execution_count": 30,
     "metadata": {},
     "output_type": "execute_result"
    }
   ],
   "source": [
    "number1=23\n",
    "number1"
   ]
  },
  {
   "cell_type": "markdown",
   "id": "605d230c-31b2-46e5-bcb9-39f32321383b",
   "metadata": {},
   "source": [
    "# Variables are case senssitive\n"
   ]
  },
  {
   "cell_type": "code",
   "execution_count": 32,
   "id": "f397b0dd-767e-4848-b203-a0fec6fb7c70",
   "metadata": {},
   "outputs": [
    {
     "name": "stdout",
     "output_type": "stream",
     "text": [
      "Akash\n",
      "AKASH\n"
     ]
    }
   ],
   "source": [
    "#Example\n",
    "name='Akash'\n",
    "Name='AKASH'\n",
    "print(name)\n",
    "print(Name)"
   ]
  },
  {
   "cell_type": "markdown",
   "id": "9ddfaea3-5649-406b-ad4e-be0c4550442c",
   "metadata": {},
   "source": [
    "# Reserved Keywords\n",
    "int,float,len,complex,bool,str,return,yield"
   ]
  },
  {
   "cell_type": "code",
   "execution_count": 33,
   "id": "983ead7b-1a4e-4091-834d-057fa818c6d6",
   "metadata": {},
   "outputs": [],
   "source": [
    "float=32"
   ]
  },
  {
   "cell_type": "code",
   "execution_count": 34,
   "id": "c0f37bd5-8c26-4291-a0d2-bd54ee095510",
   "metadata": {},
   "outputs": [
    {
     "name": "stdout",
     "output_type": "stream",
     "text": [
      "32\n"
     ]
    }
   ],
   "source": [
    "print(float)"
   ]
  },
  {
   "cell_type": "code",
   "execution_count": 35,
   "id": "1afbd170-ca46-4fb8-b0ef-65db5bc88af9",
   "metadata": {},
   "outputs": [
    {
     "data": {
      "text/plain": [
       "True"
      ]
     },
     "execution_count": 35,
     "metadata": {},
     "output_type": "execute_result"
    }
   ],
   "source": [
    "##Boolean\n",
    "True"
   ]
  },
  {
   "cell_type": "code",
   "execution_count": 36,
   "id": "29b9f829-6529-4477-be66-30477d3b1847",
   "metadata": {},
   "outputs": [
    {
     "data": {
      "text/plain": [
       "False"
      ]
     },
     "execution_count": 36,
     "metadata": {},
     "output_type": "execute_result"
    }
   ],
   "source": [
    "False"
   ]
  },
  {
   "cell_type": "code",
   "execution_count": 38,
   "id": "2b450d8f-441f-46da-a820-fc13612d7a21",
   "metadata": {},
   "outputs": [
    {
     "data": {
      "text/plain": [
       "False"
      ]
     },
     "execution_count": 38,
     "metadata": {},
     "output_type": "execute_result"
    }
   ],
   "source": [
    "True and False"
   ]
  },
  {
   "cell_type": "code",
   "execution_count": 39,
   "id": "381b457e-e181-415a-8987-a701adb88fdd",
   "metadata": {},
   "outputs": [
    {
     "data": {
      "text/plain": [
       "True"
      ]
     },
     "execution_count": 39,
     "metadata": {},
     "output_type": "execute_result"
    }
   ],
   "source": [
    "True or False"
   ]
  },
  {
   "cell_type": "code",
   "execution_count": 40,
   "id": "5bb172d5-d849-426f-8d54-a9ad4a9bcea2",
   "metadata": {},
   "outputs": [
    {
     "data": {
      "text/plain": [
       "False"
      ]
     },
     "execution_count": 40,
     "metadata": {},
     "output_type": "execute_result"
    }
   ],
   "source": [
    "not True"
   ]
  },
  {
   "cell_type": "code",
   "execution_count": 41,
   "id": "b54a2df6-5aaa-41bb-8eaf-b0c9a4c78224",
   "metadata": {},
   "outputs": [
    {
     "data": {
      "text/plain": [
       "True"
      ]
     },
     "execution_count": 41,
     "metadata": {},
     "output_type": "execute_result"
    }
   ],
   "source": [
    "not False"
   ]
  },
  {
   "cell_type": "code",
   "execution_count": 42,
   "id": "ef0744e5-7bcd-4884-9995-75e12095ab6f",
   "metadata": {},
   "outputs": [
    {
     "data": {
      "text/plain": [
       "bool"
      ]
     },
     "execution_count": 42,
     "metadata": {},
     "output_type": "execute_result"
    }
   ],
   "source": [
    "type(not False)"
   ]
  },
  {
   "cell_type": "code",
   "execution_count": 43,
   "id": "12c54a06-14e7-4e5a-8771-72e443a37966",
   "metadata": {},
   "outputs": [
    {
     "data": {
      "text/plain": [
       "False"
      ]
     },
     "execution_count": 43,
     "metadata": {},
     "output_type": "execute_result"
    }
   ],
   "source": [
    "##Typecasting\n",
    "bool(0)"
   ]
  },
  {
   "cell_type": "code",
   "execution_count": 44,
   "id": "bab8b683-3088-4b51-8168-aa386de45ce8",
   "metadata": {},
   "outputs": [
    {
     "data": {
      "text/plain": [
       "True"
      ]
     },
     "execution_count": 44,
     "metadata": {},
     "output_type": "execute_result"
    }
   ],
   "source": [
    "bool(1)"
   ]
  },
  {
   "cell_type": "code",
   "execution_count": 45,
   "id": "18a0ddec-a677-4399-8005-00c90563b5e3",
   "metadata": {},
   "outputs": [
    {
     "data": {
      "text/plain": [
       "'23'"
      ]
     },
     "execution_count": 45,
     "metadata": {},
     "output_type": "execute_result"
    }
   ],
   "source": [
    "str(23)"
   ]
  },
  {
   "cell_type": "code",
   "execution_count": 46,
   "id": "04048bcd-77de-4436-bad2-76b722b428f2",
   "metadata": {},
   "outputs": [
    {
     "data": {
      "text/plain": [
       "23"
      ]
     },
     "execution_count": 46,
     "metadata": {},
     "output_type": "execute_result"
    }
   ],
   "source": [
    "int(23)"
   ]
  },
  {
   "cell_type": "code",
   "execution_count": 47,
   "id": "51baccde-2b06-41bb-81a6-53812504cd4f",
   "metadata": {},
   "outputs": [
    {
     "data": {
      "text/plain": [
       "int"
      ]
     },
     "execution_count": 47,
     "metadata": {},
     "output_type": "execute_result"
    }
   ],
   "source": [
    "type(int('23'))"
   ]
  },
  {
   "cell_type": "code",
   "execution_count": 48,
   "id": "9f44f5f7-aa16-4a3d-9569-4f8b91ffbc9d",
   "metadata": {},
   "outputs": [
    {
     "name": "stdout",
     "output_type": "stream",
     "text": [
      "True\n"
     ]
    }
   ],
   "source": [
    "a=1\n",
    "if bool(a)==True:\n",
    "    print(\"True\")"
   ]
  },
  {
   "cell_type": "code",
   "execution_count": 49,
   "id": "9e37bb20-23de-4d1f-b21f-e6564143fd80",
   "metadata": {},
   "outputs": [
    {
     "data": {
      "text/plain": [
       "123"
      ]
     },
     "execution_count": 49,
     "metadata": {},
     "output_type": "execute_result"
    }
   ],
   "source": [
    "int('123')"
   ]
  },
  {
   "cell_type": "markdown",
   "id": "06ed95ca-6eb2-43c2-96b6-f9ebd1fdce60",
   "metadata": {},
   "source": [
    "# Dynamic Typing"
   ]
  },
  {
   "cell_type": "code",
   "execution_count": 51,
   "id": "0824727d-11e4-4f23-8e7f-0f7cc68cc955",
   "metadata": {},
   "outputs": [],
   "source": [
    "a=12\n",
    "str1=\"Akash\"\n",
    "a='var'"
   ]
  },
  {
   "cell_type": "code",
   "execution_count": 52,
   "id": "e2a9e361-5d97-4a8f-90db-e0eea6b6c96a",
   "metadata": {},
   "outputs": [
    {
     "name": "stdout",
     "output_type": "stream",
     "text": [
      "var\n"
     ]
    }
   ],
   "source": [
    "print(a)"
   ]
  },
  {
   "cell_type": "code",
   "execution_count": 53,
   "id": "d3a13924-4cb0-4f1e-8eef-e0460143156b",
   "metadata": {},
   "outputs": [
    {
     "name": "stdout",
     "output_type": "stream",
     "text": [
      "<class 'str'>\n"
     ]
    }
   ],
   "source": [
    "print(type(a))"
   ]
  },
  {
   "cell_type": "code",
   "execution_count": 54,
   "id": "2ce430ca-2150-489d-9adc-c87c865af9fe",
   "metadata": {},
   "outputs": [
    {
     "data": {
      "text/plain": [
       "1"
      ]
     },
     "execution_count": 54,
     "metadata": {},
     "output_type": "execute_result"
    }
   ],
   "source": [
    "int(1.65)"
   ]
  },
  {
   "cell_type": "markdown",
   "id": "47de8deb-b37c-4fb0-ba64-17bb27604cfb",
   "metadata": {},
   "source": [
    "# Concatenation \n",
    "## Different Types"
   ]
  },
  {
   "cell_type": "code",
   "execution_count": 55,
   "id": "689a5ea6-357a-4803-8265-8cc327c9fe06",
   "metadata": {},
   "outputs": [
    {
     "ename": "TypeError",
     "evalue": "unsupported operand type(s) for +: 'int' and 'str'",
     "output_type": "error",
     "traceback": [
      "\u001b[0;31m---------------------------------------------------------------------------\u001b[0m",
      "\u001b[0;31mTypeError\u001b[0m                                 Traceback (most recent call last)",
      "Cell \u001b[0;32mIn[55], line 1\u001b[0m\n\u001b[0;32m----> 1\u001b[0m \u001b[38;5;28;43mint\u001b[39;49m\u001b[43m(\u001b[49m\u001b[38;5;124;43m\"\u001b[39;49m\u001b[38;5;124;43m1\u001b[39;49m\u001b[38;5;124;43m\"\u001b[39;49m\u001b[43m)\u001b[49m\u001b[43m \u001b[49m\u001b[38;5;241;43m+\u001b[39;49m\u001b[43m \u001b[49m\u001b[38;5;124;43m\"\u001b[39;49m\u001b[38;5;124;43m1\u001b[39;49m\u001b[38;5;124;43m\"\u001b[39;49m\n",
      "\u001b[0;31mTypeError\u001b[0m: unsupported operand type(s) for +: 'int' and 'str'"
     ]
    }
   ],
   "source": [
    "int(\"1\") + \"1\""
   ]
  },
  {
   "cell_type": "code",
   "execution_count": 56,
   "id": "65693009-87f6-4656-9346-5d47e99c5851",
   "metadata": {},
   "outputs": [
    {
     "data": {
      "text/plain": [
       "'22222222222222222222222222222222222222222222222222'"
      ]
     },
     "execution_count": 56,
     "metadata": {},
     "output_type": "execute_result"
    }
   ],
   "source": [
    "\"2\"*50"
   ]
  },
  {
   "cell_type": "code",
   "execution_count": null,
   "id": "87a57838-20d5-4bc5-a5b6-cd41d7527f7a",
   "metadata": {},
   "outputs": [],
   "source": []
  },
  {
   "cell_type": "code",
   "execution_count": null,
   "id": "8db59d5a-e0fa-4068-bd8d-47362ad03718",
   "metadata": {},
   "outputs": [],
   "source": []
  },
  {
   "cell_type": "code",
   "execution_count": null,
   "id": "a2c4113a-874c-41b7-a4c9-9f6ac7742349",
   "metadata": {},
   "outputs": [],
   "source": []
  },
  {
   "cell_type": "code",
   "execution_count": null,
   "id": "17ad21f9-df35-4ab8-9a67-6a3a358e27a2",
   "metadata": {},
   "outputs": [],
   "source": []
  },
  {
   "cell_type": "code",
   "execution_count": null,
   "id": "9ed33ffd-e910-4889-b816-ea556f91984a",
   "metadata": {},
   "outputs": [],
   "source": []
  },
  {
   "cell_type": "code",
   "execution_count": null,
   "id": "910ebf41-11a7-447f-ab9f-69f8eb77352d",
   "metadata": {},
   "outputs": [],
   "source": []
  },
  {
   "cell_type": "code",
   "execution_count": null,
   "id": "06a597c6-a210-4738-9ace-03ea7cc0e87c",
   "metadata": {},
   "outputs": [],
   "source": []
  },
  {
   "cell_type": "code",
   "execution_count": null,
   "id": "5a8b68b9-c5e4-46a0-892b-b0d8bd64d5b2",
   "metadata": {},
   "outputs": [],
   "source": []
  },
  {
   "cell_type": "code",
   "execution_count": null,
   "id": "8ff387b1-4dd6-4e2a-962f-e3d2fec01a02",
   "metadata": {},
   "outputs": [],
   "source": []
  },
  {
   "cell_type": "code",
   "execution_count": null,
   "id": "653a4b5a-d7fd-4ab1-bd61-7bf086aceecd",
   "metadata": {},
   "outputs": [],
   "source": []
  }
 ],
 "metadata": {
  "kernelspec": {
   "display_name": "Python 3 (ipykernel)",
   "language": "python",
   "name": "python3"
  },
  "language_info": {
   "codemirror_mode": {
    "name": "ipython",
    "version": 3
   },
   "file_extension": ".py",
   "mimetype": "text/x-python",
   "name": "python",
   "nbconvert_exporter": "python",
   "pygments_lexer": "ipython3",
   "version": "3.10.8"
  }
 },
 "nbformat": 4,
 "nbformat_minor": 5
}
