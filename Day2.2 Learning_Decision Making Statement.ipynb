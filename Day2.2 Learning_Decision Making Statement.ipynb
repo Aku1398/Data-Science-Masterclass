{
 "cells": [
  {
   "cell_type": "markdown",
   "id": "af918878-5520-4558-8802-44015a1a1c5c",
   "metadata": {},
   "source": [
    "## Control Flow\n",
    "### Decision Making statements\n",
    "   * It is kind of making decision during occurred situation of program execution and action can be taken according to specified conditions.\n",
    "   * Structure of decision making evaluate several expressions that provide True or False as a result.\n",
    "   * It is up to you to decide which type of action want to take and execute the statements based upon True and False.\n",
    "   \n",
    "**These are several topics of decision making which going to be discussed below:**\n",
    "   1. **if**\n",
    "   2. **if else** \n",
    "   3. **if elif else**\n",
    "   4. **Nested if**\n",
    "   5. **Single Statement Suites**\n"
   ]
  },
  {
   "cell_type": "markdown",
   "id": "f2c85189-1133-45c4-9db8-d45e794245cf",
   "metadata": {},
   "source": [
    "## if statements"
   ]
  },
  {
   "cell_type": "code",
   "execution_count": 2,
   "id": "98661ee8-414c-4be1-94ca-3b5089c6899c",
   "metadata": {},
   "outputs": [
    {
     "name": "stdout",
     "output_type": "stream",
     "text": [
      "You are eligible for vote\n"
     ]
    }
   ],
   "source": [
    "age=24\n",
    "if age>18:\n",
    "    print(\"You are eligible for vote\")"
   ]
  },
  {
   "cell_type": "code",
   "execution_count": 3,
   "id": "17080c0d-576a-4813-bc42-45ff64002e43",
   "metadata": {},
   "outputs": [
    {
     "name": "stdout",
     "output_type": "stream",
     "text": [
      "You are not eligible for vote\n"
     ]
    }
   ],
   "source": [
    "age=17\n",
    "if age<18:\n",
    "    print(\"You are not eligible for vote\")"
   ]
  },
  {
   "cell_type": "code",
   "execution_count": 4,
   "id": "a96e3f38-f2df-41f8-97f6-9e587e9a5752",
   "metadata": {},
   "outputs": [
    {
     "data": {
      "text/plain": [
       "True"
      ]
     },
     "execution_count": 4,
     "metadata": {},
     "output_type": "execute_result"
    }
   ],
   "source": [
    "24<=24"
   ]
  },
  {
   "cell_type": "markdown",
   "id": "5146cd4a-498e-46de-801f-ee62c06d29b8",
   "metadata": {},
   "source": [
    "## input()  \n",
    "### Geting the string data type from user"
   ]
  },
  {
   "cell_type": "code",
   "execution_count": 5,
   "id": "671147ce-af79-4d44-b4f2-29fd779a8dac",
   "metadata": {},
   "outputs": [
    {
     "name": "stdin",
     "output_type": "stream",
     "text": [
      "Enter your name :  Akash\n"
     ]
    }
   ],
   "source": [
    "name=input(\"Enter your name : \")"
   ]
  },
  {
   "cell_type": "code",
   "execution_count": 6,
   "id": "e13cea5e-8e40-4e8e-b6c3-0112492c96f4",
   "metadata": {},
   "outputs": [
    {
     "data": {
      "text/plain": [
       "'Akash'"
      ]
     },
     "execution_count": 6,
     "metadata": {},
     "output_type": "execute_result"
    }
   ],
   "source": [
    "name"
   ]
  },
  {
   "cell_type": "markdown",
   "id": "7a87394a-da02-45c0-88b2-f0e4ab3542e9",
   "metadata": {},
   "source": [
    "## type casting \n",
    "### default string data type to another data type"
   ]
  },
  {
   "cell_type": "code",
   "execution_count": 3,
   "id": "b0c7fc07-050b-4ae7-b0d0-9e5ae9c81596",
   "metadata": {},
   "outputs": [
    {
     "name": "stdin",
     "output_type": "stream",
     "text": [
      "Enter your age :  24\n"
     ]
    }
   ],
   "source": [
    "age=int(input(\"Enter your age : \"))"
   ]
  },
  {
   "cell_type": "code",
   "execution_count": 4,
   "id": "96d95896-7c3d-40d9-bd17-8e9869baa1eb",
   "metadata": {},
   "outputs": [
    {
     "data": {
      "text/plain": [
       "24"
      ]
     },
     "execution_count": 4,
     "metadata": {},
     "output_type": "execute_result"
    }
   ],
   "source": [
    "age"
   ]
  },
  {
   "cell_type": "markdown",
   "id": "c58019ac-53e3-46c7-a036-54fc94587499",
   "metadata": {},
   "source": [
    "# Task\n",
    "### Take a input of age\n",
    "### check whether age >=18 and age<=45\n",
    "### display a message you are young blood"
   ]
  },
  {
   "cell_type": "code",
   "execution_count": 5,
   "id": "0e1e39e9-3779-4542-bc91-274edf1e891a",
   "metadata": {},
   "outputs": [
    {
     "name": "stdin",
     "output_type": "stream",
     "text": [
      "Enter your age :  27\n"
     ]
    },
    {
     "name": "stdout",
     "output_type": "stream",
     "text": [
      "You are the young blood\n"
     ]
    }
   ],
   "source": [
    "age=int(input(\"Enter your age : \"))\n",
    "if age>=18 and age<=45:\n",
    "    print(\"You are the young blood\")"
   ]
  },
  {
   "cell_type": "markdown",
   "id": "2522dc80-c1ba-4529-b74a-5b950292d898",
   "metadata": {},
   "source": [
    "## if else satetements"
   ]
  },
  {
   "cell_type": "code",
   "execution_count": 6,
   "id": "13aba092-783c-43f7-ae83-c30ccb38f243",
   "metadata": {},
   "outputs": [
    {
     "name": "stdin",
     "output_type": "stream",
     "text": [
      "Enter your age :  24\n"
     ]
    },
    {
     "name": "stdout",
     "output_type": "stream",
     "text": [
      "Your are not eligible for vote\n"
     ]
    }
   ],
   "source": [
    "#f else satetements\n",
    "age=int(input(\"Enter your age : \"))\n",
    "if age>=18:\n",
    "    print(\"Your are not eligible for vote\")\n",
    "else:\n",
    "    print(\"You are eligible for vote\")"
   ]
  },
  {
   "cell_type": "markdown",
   "id": "7860ef33-2eeb-4949-b8b5-774de9874d00",
   "metadata": {},
   "source": [
    "# Task2\n",
    "## mall - input the product price\n",
    "## product >1000 rs 20% off\n",
    "## print the product price after removing the discount\n",
    "## product <=1000 rs 30% off\n",
    "## print the product price after removing the discount\n"
   ]
  },
  {
   "cell_type": "code",
   "execution_count": 8,
   "id": "9a57edf6-c9cf-4b88-ac9c-51483655e743",
   "metadata": {},
   "outputs": [
    {
     "name": "stdin",
     "output_type": "stream",
     "text": [
      "Enter the price 2000\n"
     ]
    },
    {
     "name": "stdout",
     "output_type": "stream",
     "text": [
      "The price of the product is 1600.0\n"
     ]
    }
   ],
   "source": [
    "product_price=int(input(\"Enter the price\"))\n",
    "if product_price>1000:\n",
    "    print(\"The price of the product is {}\".format(product_price*0.8))\n",
    "else:\n",
    "    print(\"The price of product is {}\".format(product_price*0.7))"
   ]
  },
  {
   "cell_type": "markdown",
   "id": "f0cb60ee-3a42-4cb9-b55d-8e29abe8e731",
   "metadata": {},
   "source": [
    "# if elif else Statement"
   ]
  },
  {
   "cell_type": "markdown",
   "id": "7d77aa38-be19-4b89-9cf7-7baf6c6c5f0f",
   "metadata": {},
   "source": [
    "# Task 3\n",
    "## mall - input the product price\n",
    "## product >3000 rs 20% off\n",
    "## price is ==4000 you get a trip to Goa\n",
    "## print the product price after removing the discount\n",
    "## product >=2000 rs and <=3000 30% off\n",
    "## print the product price after removing the discount\n",
    "## price ==2999  u will get adiitional gift\n",
    "## product 100 rs and <=2000 40% off\n",
    "## print the product price after removing the discount"
   ]
  },
  {
   "cell_type": "code",
   "execution_count": 9,
   "id": "dd9eb61b-68fc-428e-baec-10a52a149533",
   "metadata": {},
   "outputs": [
    {
     "name": "stdin",
     "output_type": "stream",
     "text": [
      "Enter the price 10\n"
     ]
    },
    {
     "name": "stdout",
     "output_type": "stream",
     "text": [
      "don't have any discount for you\n"
     ]
    }
   ],
   "source": [
    "product_price=int(input(\"Enter the price\"))\n",
    "if product_price>3000:\n",
    "    print(\"The product price is {}\".format(product_price*0.7))\n",
    "elif product_price==4000:\n",
    "    print(\"Congratulations You win Goa trip with your family\")\n",
    "elif product_price<=100 and product_price>=2000:\n",
    "    print(\"The product price is {}\".format(product_price*0.6))\n",
    "elif product_price==2000:\n",
    "    print(\"You got additional gift package\")\n",
    "else:\n",
    "    print(\"don't have any discount for you\")"
   ]
  },
  {
   "cell_type": "code",
   "execution_count": null,
   "id": "e394dbcb-51e4-4d88-8525-76fb5402fa17",
   "metadata": {},
   "outputs": [],
   "source": []
  },
  {
   "cell_type": "code",
   "execution_count": null,
   "id": "e0b86377-217f-4ec5-b0cf-b2586d58e170",
   "metadata": {},
   "outputs": [],
   "source": []
  },
  {
   "cell_type": "code",
   "execution_count": null,
   "id": "b4a15640-3ac4-4848-9401-77e6d2fbbc02",
   "metadata": {},
   "outputs": [],
   "source": []
  },
  {
   "cell_type": "code",
   "execution_count": null,
   "id": "10281607-3884-4021-bd8c-8e80535fe666",
   "metadata": {},
   "outputs": [],
   "source": []
  },
  {
   "cell_type": "code",
   "execution_count": null,
   "id": "d460001d-6302-40ba-82b9-c6d854d83de9",
   "metadata": {},
   "outputs": [],
   "source": []
  },
  {
   "cell_type": "code",
   "execution_count": null,
   "id": "c5559309-205c-491d-8122-c48412ef6b24",
   "metadata": {},
   "outputs": [],
   "source": []
  },
  {
   "cell_type": "code",
   "execution_count": null,
   "id": "32746f13-5dc2-46b5-b2b6-f68d9879c39e",
   "metadata": {},
   "outputs": [],
   "source": []
  },
  {
   "cell_type": "code",
   "execution_count": null,
   "id": "d2f807d1-7269-4461-a0a7-96ee68c79a27",
   "metadata": {},
   "outputs": [],
   "source": []
  },
  {
   "cell_type": "code",
   "execution_count": null,
   "id": "4b63dc83-41e2-4f2c-8c5a-5cba8a119bae",
   "metadata": {},
   "outputs": [],
   "source": []
  },
  {
   "cell_type": "code",
   "execution_count": null,
   "id": "24bceead-ce2b-4ef2-90f9-e8377b3c2044",
   "metadata": {},
   "outputs": [],
   "source": []
  },
  {
   "cell_type": "code",
   "execution_count": null,
   "id": "c2b138cc-f7c0-4865-9154-6590f77a7097",
   "metadata": {},
   "outputs": [],
   "source": []
  },
  {
   "cell_type": "code",
   "execution_count": null,
   "id": "98a0f991-84c3-4d18-b757-7cc5a4f552f0",
   "metadata": {},
   "outputs": [],
   "source": []
  },
  {
   "cell_type": "code",
   "execution_count": null,
   "id": "d7f29edf-f4f2-488b-a464-925b30d10896",
   "metadata": {},
   "outputs": [],
   "source": []
  },
  {
   "cell_type": "code",
   "execution_count": null,
   "id": "9f121212-297f-4820-a8f8-e93f24c094b1",
   "metadata": {},
   "outputs": [],
   "source": []
  },
  {
   "cell_type": "code",
   "execution_count": null,
   "id": "0842b17b-3b52-4c2d-99da-fe2e25474236",
   "metadata": {},
   "outputs": [],
   "source": []
  },
  {
   "cell_type": "code",
   "execution_count": null,
   "id": "83873366-9399-46c9-8253-78b0f5d3e55a",
   "metadata": {},
   "outputs": [],
   "source": []
  },
  {
   "cell_type": "code",
   "execution_count": null,
   "id": "8064cd28-aaa9-49af-8b4a-e4b8095d259a",
   "metadata": {},
   "outputs": [],
   "source": []
  },
  {
   "cell_type": "code",
   "execution_count": null,
   "id": "8129daf1-a6d5-4b72-83f9-4aa49e72c71d",
   "metadata": {},
   "outputs": [],
   "source": []
  },
  {
   "cell_type": "code",
   "execution_count": null,
   "id": "66194339-fb92-40f5-bb7d-ba5c33aa91ff",
   "metadata": {},
   "outputs": [],
   "source": []
  },
  {
   "cell_type": "code",
   "execution_count": null,
   "id": "de6a9670-af54-409c-885b-3883729204f7",
   "metadata": {},
   "outputs": [],
   "source": []
  },
  {
   "cell_type": "code",
   "execution_count": null,
   "id": "a4b608bb-76ce-4021-95c8-b4db6409a30f",
   "metadata": {},
   "outputs": [],
   "source": []
  },
  {
   "cell_type": "code",
   "execution_count": null,
   "id": "7bde78ad-c5eb-41f1-aaff-f8c2430c2ce2",
   "metadata": {},
   "outputs": [],
   "source": []
  },
  {
   "cell_type": "code",
   "execution_count": null,
   "id": "094a3562-1d69-4b1a-a3ff-8cd6df0b15b4",
   "metadata": {},
   "outputs": [],
   "source": []
  },
  {
   "cell_type": "code",
   "execution_count": null,
   "id": "426eae06-1491-4d34-8fbd-224a0f49e5ad",
   "metadata": {},
   "outputs": [],
   "source": []
  },
  {
   "cell_type": "code",
   "execution_count": null,
   "id": "835d7fc1-90d3-4314-9935-a2b4d9ec238b",
   "metadata": {},
   "outputs": [],
   "source": []
  },
  {
   "cell_type": "code",
   "execution_count": null,
   "id": "b9f5d1e8-9d89-461d-876c-c12decd38faf",
   "metadata": {},
   "outputs": [],
   "source": []
  }
 ],
 "metadata": {
  "kernelspec": {
   "display_name": "Python 3 (ipykernel)",
   "language": "python",
   "name": "python3"
  },
  "language_info": {
   "codemirror_mode": {
    "name": "ipython",
    "version": 3
   },
   "file_extension": ".py",
   "mimetype": "text/x-python",
   "name": "python",
   "nbconvert_exporter": "python",
   "pygments_lexer": "ipython3",
   "version": "3.10.8"
  }
 },
 "nbformat": 4,
 "nbformat_minor": 5
}
