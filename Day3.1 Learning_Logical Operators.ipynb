{
 "cells": [
  {
   "cell_type": "markdown",
   "id": "e1a7fb5c-43e6-4628-8f6e-7ba7db29f166",
   "metadata": {},
   "source": [
    "# Logical Operators\n",
    "#### 1.And\n",
    "#### 2.or\n",
    "#### 3.not"
   ]
  },
  {
   "cell_type": "code",
   "execution_count": 1,
   "id": "543daa3b-9913-4363-81ed-8125944dc2a3",
   "metadata": {},
   "outputs": [
    {
     "data": {
      "text/plain": [
       "True"
      ]
     },
     "execution_count": 1,
     "metadata": {},
     "output_type": "execute_result"
    }
   ],
   "source": [
    "True and True"
   ]
  },
  {
   "cell_type": "code",
   "execution_count": 3,
   "id": "8421279d-bb79-4202-ad5b-c2e3cf12d6b4",
   "metadata": {},
   "outputs": [
    {
     "data": {
      "text/plain": [
       "True"
      ]
     },
     "execution_count": 3,
     "metadata": {},
     "output_type": "execute_result"
    }
   ],
   "source": [
    "True or False"
   ]
  },
  {
   "cell_type": "code",
   "execution_count": 5,
   "id": "4bd268cf-6cf0-4ed7-a1da-e0eda8be322e",
   "metadata": {},
   "outputs": [
    {
     "data": {
      "text/plain": [
       "False"
      ]
     },
     "execution_count": 5,
     "metadata": {},
     "output_type": "execute_result"
    }
   ],
   "source": [
    "True and False"
   ]
  },
  {
   "cell_type": "code",
   "execution_count": 9,
   "id": "711b3ef2-bc72-47ef-a276-5ee0bd9a0b50",
   "metadata": {},
   "outputs": [
    {
     "name": "stdout",
     "output_type": "stream",
     "text": [
      "Defined value os Start is True\n",
      "Defined value of Stop is False\n",
      "\n",
      "Defined value of Start is True\n",
      "Defined value of Stop is False\n",
      "\n",
      "Defined value of Start is True\n",
      "Defined value of Stop is False/n\n"
     ]
    }
   ],
   "source": [
    "##Lets define the variables\n",
    "Start = True\n",
    "Stop = False\n",
    "\n",
    "#print the values\n",
    "print(f\"Defined value os Start is {Start}\")\n",
    "print(f\"Defined value of Stop is {Stop}\\n\")\n",
    "\n",
    "#print differently\n",
    "print(f\"Defined value of Start is {Start}\")\n",
    "print(f\"Defined value of Stop is {not Start}\\n\")\n",
    "\n",
    "#print alternately\n",
    "print(f\"Defined value of Start is {not Stop}\")\n",
    "print(f\"Defined value of Stop is {Stop}/n\")"
   ]
  },
  {
   "cell_type": "code",
   "execution_count": 11,
   "id": "048ee89f-efd1-4ffc-ad1b-74fa35bb90be",
   "metadata": {},
   "outputs": [
    {
     "data": {
      "text/plain": [
       "False"
      ]
     },
     "execution_count": 11,
     "metadata": {},
     "output_type": "execute_result"
    }
   ],
   "source": [
    "not True"
   ]
  },
  {
   "cell_type": "code",
   "execution_count": 12,
   "id": "a2ca3d32-f0b3-4929-9754-1e7dead58f62",
   "metadata": {},
   "outputs": [
    {
     "data": {
      "text/plain": [
       "True"
      ]
     },
     "execution_count": 12,
     "metadata": {},
     "output_type": "execute_result"
    }
   ],
   "source": [
    "not int(bool(0))"
   ]
  },
  {
   "cell_type": "code",
   "execution_count": 13,
   "id": "55271d55-493e-4fef-bfa7-b8a736e9c836",
   "metadata": {},
   "outputs": [
    {
     "data": {
      "text/plain": [
       "False"
      ]
     },
     "execution_count": 13,
     "metadata": {},
     "output_type": "execute_result"
    }
   ],
   "source": [
    "not int(bool(1))"
   ]
  },
  {
   "cell_type": "code",
   "execution_count": 14,
   "id": "6ba1e94d-8487-4ecb-9e35-56acc7672840",
   "metadata": {},
   "outputs": [
    {
     "data": {
      "text/plain": [
       "False"
      ]
     },
     "execution_count": 14,
     "metadata": {},
     "output_type": "execute_result"
    }
   ],
   "source": [
    "not 1"
   ]
  },
  {
   "cell_type": "code",
   "execution_count": 15,
   "id": "5594e04b-71af-43e2-80c6-a357268d14e4",
   "metadata": {},
   "outputs": [
    {
     "data": {
      "text/plain": [
       "True"
      ]
     },
     "execution_count": 15,
     "metadata": {},
     "output_type": "execute_result"
    }
   ],
   "source": [
    "not 0"
   ]
  },
  {
   "cell_type": "code",
   "execution_count": 16,
   "id": "4fb0b777-6d13-4307-9b09-7d43d220af6d",
   "metadata": {},
   "outputs": [
    {
     "data": {
      "text/plain": [
       "False"
      ]
     },
     "execution_count": 16,
     "metadata": {},
     "output_type": "execute_result"
    }
   ],
   "source": [
    "not 2000"
   ]
  },
  {
   "cell_type": "code",
   "execution_count": 17,
   "id": "bf1b38c4-19e4-4479-a34b-4345a74d9115",
   "metadata": {},
   "outputs": [
    {
     "data": {
      "text/plain": [
       "False"
      ]
     },
     "execution_count": 17,
     "metadata": {},
     "output_type": "execute_result"
    }
   ],
   "source": [
    "not -1"
   ]
  },
  {
   "cell_type": "code",
   "execution_count": 18,
   "id": "a0d97712-0d23-4c6d-8ffa-114e4c93cafd",
   "metadata": {},
   "outputs": [
    {
     "name": "stdout",
     "output_type": "stream",
     "text": [
      "Defined value of START = 1\n",
      "Defined value of STOP = 0 \n",
      "\n",
      "Defined value of START = 1\n",
      "Value of STOP by negating START= 0 \n",
      "\n",
      "Value of START by negating STOP = 1\n",
      "Defined value of STOP = 0 \n",
      "\n"
     ]
    }
   ],
   "source": [
    "START = 1\n",
    "STOP = 0\n",
    "\n",
    "# Print the values as it is\n",
    "print(f\"Defined value of START = {START}\")\n",
    "print(f\"Defined value of STOP = {STOP} \\n\")\n",
    "\n",
    "# if can also be written as - \n",
    "print(f\"Defined value of START = {START}\")\n",
    "print(f\"Value of STOP by negating START= {int(not START)} \\n\")\n",
    "\n",
    "# alternatively -\n",
    "print(f\"Value of START by negating STOP = {int(not STOP)}\")\n",
    "print(f\"Defined value of STOP = {STOP} \\n\")"
   ]
  },
  {
   "cell_type": "code",
   "execution_count": 19,
   "id": "195646eb-dd8f-49e6-b2b4-f5730ab1ed3e",
   "metadata": {},
   "outputs": [
    {
     "name": "stdout",
     "output_type": "stream",
     "text": [
      "boolean value 0 is False\n",
      "boolean value 1 is True\n",
      "\n",
      "#---------------------------------#\n",
      "\n"
     ]
    }
   ],
   "source": [
    "false = 0\n",
    "true = 1\n",
    "\n",
    "print(f\"boolean value {false} is {bool(false)}\")\n",
    "print(f\"boolean value {true} is {bool(true)}\")\n",
    "print(\"\\n#---------------------------------#\\n\")"
   ]
  },
  {
   "cell_type": "code",
   "execution_count": 20,
   "id": "e016c352-5ffd-4e41-87b6-2b02751e2947",
   "metadata": {},
   "outputs": [
    {
     "data": {
      "text/plain": [
       "False"
      ]
     },
     "execution_count": 20,
     "metadata": {},
     "output_type": "execute_result"
    }
   ],
   "source": [
    "not 5"
   ]
  },
  {
   "cell_type": "code",
   "execution_count": 22,
   "id": "02e69d40-7dea-4e26-8d2a-e16811ae73a8",
   "metadata": {},
   "outputs": [
    {
     "name": "stdout",
     "output_type": "stream",
     "text": [
      "boolean value of -2 is True\n",
      "boolean value of 2 is True\n"
     ]
    }
   ],
   "source": [
    "Negative_value=-2\n",
    "Positive_value=2\n",
    "\n",
    "print(f\"boolean value of {Negative_value} is {bool(Negative_value)}\")\n",
    "print(f\"boolean value of {Positive_value} is {bool(Positive_value)}\")"
   ]
  },
  {
   "cell_type": "markdown",
   "id": "29ce4960-b53a-4f7a-a730-cd9071e36875",
   "metadata": {},
   "source": [
    "# Logical And"
   ]
  },
  {
   "cell_type": "code",
   "execution_count": 23,
   "id": "0b972087-9437-4ce0-8ee9-e9cc7412fd56",
   "metadata": {},
   "outputs": [
    {
     "name": "stdout",
     "output_type": "stream",
     "text": [
      "Dish contains Veg: True\n",
      "Dish contaons salt: False\n",
      "Hence dis prepared was good : False\n"
     ]
    }
   ],
   "source": [
    "veg = True\n",
    "salt = False\n",
    "dish = veg and salt\n",
    "\n",
    "print(f\"Dish contains Veg: {veg}\")\n",
    "print(f\"Dish contaons salt: {salt}\")\n",
    "print(f\"Hence dis prepared was good : {dish}\")"
   ]
  },
  {
   "cell_type": "markdown",
   "id": "820868be-fdff-4379-bf5f-70e448b23fd0",
   "metadata": {},
   "source": [
    "### And operator also dinoted by *\n"
   ]
  },
  {
   "cell_type": "code",
   "execution_count": 24,
   "id": "6362ad75-e820-41cb-b042-e0a8693f1654",
   "metadata": {},
   "outputs": [
    {
     "data": {
      "text/plain": [
       "True"
      ]
     },
     "execution_count": 24,
     "metadata": {},
     "output_type": "execute_result"
    }
   ],
   "source": [
    "not(False) * True"
   ]
  },
  {
   "cell_type": "code",
   "execution_count": 25,
   "id": "c3b01573-cf9b-4c9f-be40-a1be6151c01b",
   "metadata": {},
   "outputs": [
    {
     "data": {
      "text/plain": [
       "False"
      ]
     },
     "execution_count": 25,
     "metadata": {},
     "output_type": "execute_result"
    }
   ],
   "source": [
    "not(True) * True"
   ]
  },
  {
   "cell_type": "code",
   "execution_count": 26,
   "id": "131ef2d7-ece8-4140-8178-496b11e2ca03",
   "metadata": {},
   "outputs": [
    {
     "data": {
      "text/plain": [
       "0"
      ]
     },
     "execution_count": 26,
     "metadata": {},
     "output_type": "execute_result"
    }
   ],
   "source": [
    "(not (False)) * False"
   ]
  },
  {
   "cell_type": "code",
   "execution_count": 27,
   "id": "f28d192a-14f6-4dcb-ad0c-6e1909c0cb8f",
   "metadata": {},
   "outputs": [
    {
     "data": {
      "text/plain": [
       "0"
      ]
     },
     "execution_count": 27,
     "metadata": {},
     "output_type": "execute_result"
    }
   ],
   "source": [
    "False * False"
   ]
  },
  {
   "cell_type": "code",
   "execution_count": 28,
   "id": "a0184721-43fb-458b-9ba0-b1a0f6486e5e",
   "metadata": {},
   "outputs": [
    {
     "data": {
      "text/plain": [
       "True"
      ]
     },
     "execution_count": 28,
     "metadata": {},
     "output_type": "execute_result"
    }
   ],
   "source": [
    "not (True) * False"
   ]
  },
  {
   "cell_type": "code",
   "execution_count": 29,
   "id": "581c805c-62de-4a23-8d88-5c88807a7522",
   "metadata": {},
   "outputs": [
    {
     "data": {
      "text/plain": [
       "True"
      ]
     },
     "execution_count": 29,
     "metadata": {},
     "output_type": "execute_result"
    }
   ],
   "source": [
    "not(False)*False==True"
   ]
  },
  {
   "cell_type": "code",
   "execution_count": 30,
   "id": "4e1d8bf3-dc20-40a6-a3b5-bd6722bf1cc4",
   "metadata": {},
   "outputs": [
    {
     "name": "stdout",
     "output_type": "stream",
     "text": [
      "True\n"
     ]
    },
    {
     "data": {
      "text/plain": [
       "False"
      ]
     },
     "execution_count": 30,
     "metadata": {},
     "output_type": "execute_result"
    }
   ],
   "source": [
    "print(not(False)*False) == True"
   ]
  },
  {
   "cell_type": "markdown",
   "id": "30f2f38a-273d-4fde-bcf6-5236f1d08b5f",
   "metadata": {},
   "source": [
    "### 4.1.2 Equality Operators\n",
    "\n",
    "Following operations are present in python for equlity check operation-\n",
    "\n",
    "|Operators|Meaning|\n",
    "|-|-|\n",
    "|**is**|***a is b*** returns true if variable/identifiers a and b *points* to the *same object*|\n",
    "|**is not**|***a is not b*** returns true if variable/identifiers a and b *points* to the *different object*|\n",
    "|**==**|***a == b*** returns true if variable/identifiers a and b has same value|\n",
    "|**!=**|***a != b*** returns true if variable/identifiers a and b has different value|"
   ]
  },
  {
   "cell_type": "code",
   "execution_count": 31,
   "id": "4ac0da9f-bdcb-45d6-8833-1d23a13774da",
   "metadata": {},
   "outputs": [],
   "source": [
    "lst_a=[1,2,3,4]\n",
    "lst_b=[1,2,3,4]"
   ]
  },
  {
   "cell_type": "code",
   "execution_count": 33,
   "id": "c10ae8d9-8e5b-4778-aded-2f5befb70587",
   "metadata": {},
   "outputs": [
    {
     "name": "stdout",
     "output_type": "stream",
     "text": [
      "139976249895424\n",
      "139976612063424\n"
     ]
    }
   ],
   "source": [
    "print(id(lst_a))\n",
    "print(id(lst_b))"
   ]
  },
  {
   "cell_type": "code",
   "execution_count": 34,
   "id": "93950a2d-eedc-4127-8b47-f2276aa54b5d",
   "metadata": {},
   "outputs": [
    {
     "data": {
      "text/plain": [
       "False"
      ]
     },
     "execution_count": 34,
     "metadata": {},
     "output_type": "execute_result"
    }
   ],
   "source": [
    "lst_a is lst_b"
   ]
  },
  {
   "cell_type": "code",
   "execution_count": 35,
   "id": "352748f8-9629-4aeb-b0f0-6f1b6eb7e131",
   "metadata": {},
   "outputs": [],
   "source": [
    "lst_a=[1,2,3,4]\n",
    "lst_b=lst_a"
   ]
  },
  {
   "cell_type": "code",
   "execution_count": 36,
   "id": "dd24ced1-37a4-4642-8f87-3bfb490fce61",
   "metadata": {},
   "outputs": [
    {
     "data": {
      "text/plain": [
       "False"
      ]
     },
     "execution_count": 36,
     "metadata": {},
     "output_type": "execute_result"
    }
   ],
   "source": [
    "lst_a is not lst_b"
   ]
  },
  {
   "cell_type": "code",
   "execution_count": 37,
   "id": "fda09589-0ebc-4dee-8b0e-3953638ce5b2",
   "metadata": {},
   "outputs": [
    {
     "data": {
      "text/plain": [
       "True"
      ]
     },
     "execution_count": 37,
     "metadata": {},
     "output_type": "execute_result"
    }
   ],
   "source": [
    "lst_a is lst_b"
   ]
  },
  {
   "cell_type": "code",
   "execution_count": 38,
   "id": "e5470a82-189a-4f58-afe8-51c971d9dbfc",
   "metadata": {},
   "outputs": [
    {
     "name": "stdout",
     "output_type": "stream",
     "text": [
      "139976810152208\n",
      "139976810152208\n"
     ]
    }
   ],
   "source": [
    "a=2\n",
    "b=2\n",
    "print(id(a))\n",
    "print(id(b))"
   ]
  },
  {
   "cell_type": "code",
   "execution_count": 39,
   "id": "4fb4f48e-cab8-4a73-a1d2-a3938485367b",
   "metadata": {},
   "outputs": [
    {
     "data": {
      "text/plain": [
       "True"
      ]
     },
     "execution_count": 39,
     "metadata": {},
     "output_type": "execute_result"
    }
   ],
   "source": [
    "a is b"
   ]
  },
  {
   "cell_type": "code",
   "execution_count": 40,
   "id": "ab99610a-ee2f-4738-8a4e-d243610b8a6f",
   "metadata": {},
   "outputs": [
    {
     "name": "stdout",
     "output_type": "stream",
     "text": [
      "139976612657136\n",
      "139976612657136\n"
     ]
    }
   ],
   "source": [
    "str1=\"Akash\"\n",
    "str2=\"Akash\"\n",
    "print(id(str1))\n",
    "print(id(str2))"
   ]
  },
  {
   "cell_type": "markdown",
   "id": "e3e7a402-f5e2-4d8e-bd27-5984cca83c02",
   "metadata": {},
   "source": [
    "# Immutable string"
   ]
  },
  {
   "cell_type": "code",
   "execution_count": 41,
   "id": "5cdc30f3-9a41-4a12-9948-2a1fefb11fd1",
   "metadata": {},
   "outputs": [
    {
     "name": "stdout",
     "output_type": "stream",
     "text": [
      "139976612650992\n",
      "139976612648688\n"
     ]
    }
   ],
   "source": [
    "## immutable\n",
    "str1=\"Krish\"\n",
    "str2=\"Krish1\"\n",
    "\n",
    "print(id(str1))\n",
    "print(id(str2))"
   ]
  },
  {
   "cell_type": "code",
   "execution_count": 42,
   "id": "9630c8a7-7f32-4ff6-8a06-7345a4798c00",
   "metadata": {},
   "outputs": [
    {
     "data": {
      "text/plain": [
       "[1, 2, 3, 4]"
      ]
     },
     "execution_count": 42,
     "metadata": {},
     "output_type": "execute_result"
    }
   ],
   "source": [
    "lst_a"
   ]
  },
  {
   "cell_type": "code",
   "execution_count": 43,
   "id": "e28f172f-7529-4f35-9cd3-27b255bc5416",
   "metadata": {},
   "outputs": [
    {
     "data": {
      "text/plain": [
       "'Krish'"
      ]
     },
     "execution_count": 43,
     "metadata": {},
     "output_type": "execute_result"
    }
   ],
   "source": [
    "str1"
   ]
  },
  {
   "cell_type": "code",
   "execution_count": 45,
   "id": "80075196-3bcd-4757-83a9-15220f64c2f5",
   "metadata": {},
   "outputs": [
    {
     "ename": "NameError",
     "evalue": "name 'N' is not defined",
     "output_type": "error",
     "traceback": [
      "\u001b[0;31m---------------------------------------------------------------------------\u001b[0m",
      "\u001b[0;31mNameError\u001b[0m                                 Traceback (most recent call last)",
      "Cell \u001b[0;32mIn[45], line 1\u001b[0m\n\u001b[0;32m----> 1\u001b[0m str1[\u001b[38;5;241m0\u001b[39m]\u001b[38;5;241m=\u001b[39m\u001b[43mN\u001b[49m  \u001b[38;5;66;03m#Strings are immutable so vales are not change\u001b[39;00m\n",
      "\u001b[0;31mNameError\u001b[0m: name 'N' is not defined"
     ]
    }
   ],
   "source": [
    "str1[0]=N  #Strings are immutable so vales are not change"
   ]
  },
  {
   "cell_type": "markdown",
   "id": "4d3afe66-0ff1-4c2b-b4a8-8f2627f31a91",
   "metadata": {},
   "source": [
    "# Comparator Operator"
   ]
  },
  {
   "cell_type": "markdown",
   "id": "ec3b031d-e000-4344-b206-e8eacbc6cc52",
   "metadata": {},
   "source": [
    "|Operation|Meaning|\n",
    "|:-:|:-:|\n",
    "| **<** |less than|\n",
    "| **<=** |less than or equal to|\n",
    "| **>** |greater than|\n",
    "| **>=** |greater than or equal to|\n"
   ]
  },
  {
   "cell_type": "code",
   "execution_count": 46,
   "id": "3bd62c17-45c0-4b60-8eee-4d80ea9284e2",
   "metadata": {},
   "outputs": [
    {
     "name": "stdout",
     "output_type": "stream",
     "text": [
      "bike is faster than car: False\n"
     ]
    }
   ],
   "source": [
    "maxium_speed_of_bike = 200\n",
    "max_speed_of_car = 200\n",
    "\n",
    "print(f\"bike is faster than car: {maxium_speed_of_bike > max_speed_of_car}\")"
   ]
  },
  {
   "cell_type": "markdown",
   "id": "4d5997d6-1f22-4f34-9bde-cf9d9767e0eb",
   "metadata": {},
   "source": [
    "# Arithmatic Operations"
   ]
  },
  {
   "cell_type": "markdown",
   "id": "d23fbfe7-770c-4891-b620-386df7c0c2e1",
   "metadata": {},
   "source": [
    "## Arithmethic Operations\n",
    "|Operation|Meaning|\n",
    "|:-:|:-:|\n",
    "| **+** |addition|\n",
    "| **-** |subtraction|\n",
    "| **\\*** |multiplication|\n",
    "| **/** |true division|\n",
    "| **//** |integer division|\n",
    "| **%** |the modulo operator|"
   ]
  },
  {
   "cell_type": "code",
   "execution_count": 47,
   "id": "076f3e94-00ef-453f-867d-82c5f9709ab1",
   "metadata": {},
   "outputs": [],
   "source": [
    "a=25\n",
    "b=27"
   ]
  },
  {
   "cell_type": "code",
   "execution_count": 48,
   "id": "0228376f-73e2-4283-98d1-09b042cc264e",
   "metadata": {},
   "outputs": [
    {
     "data": {
      "text/plain": [
       "675"
      ]
     },
     "execution_count": 48,
     "metadata": {},
     "output_type": "execute_result"
    }
   ],
   "source": [
    "a*b"
   ]
  },
  {
   "cell_type": "code",
   "execution_count": 49,
   "id": "1f6f752a-f649-4103-b27b-57d9a90814c5",
   "metadata": {},
   "outputs": [
    {
     "data": {
      "text/plain": [
       "52"
      ]
     },
     "execution_count": 49,
     "metadata": {},
     "output_type": "execute_result"
    }
   ],
   "source": [
    "a+b"
   ]
  },
  {
   "cell_type": "code",
   "execution_count": 50,
   "id": "492fefc1-fc70-4418-be4b-14daaee48aa3",
   "metadata": {},
   "outputs": [
    {
     "data": {
      "text/plain": [
       "-2"
      ]
     },
     "execution_count": 50,
     "metadata": {},
     "output_type": "execute_result"
    }
   ],
   "source": [
    "a-b"
   ]
  },
  {
   "cell_type": "code",
   "execution_count": 51,
   "id": "19df1892-d5a0-4a1e-be9c-b8839c169fe8",
   "metadata": {},
   "outputs": [
    {
     "data": {
      "text/plain": [
       "0.9259259259259259"
      ]
     },
     "execution_count": 51,
     "metadata": {},
     "output_type": "execute_result"
    }
   ],
   "source": [
    "a/b"
   ]
  },
  {
   "cell_type": "code",
   "execution_count": 52,
   "id": "1e201bbb-5906-4db8-ba9f-6c8ec560c673",
   "metadata": {},
   "outputs": [
    {
     "data": {
      "text/plain": [
       "25"
      ]
     },
     "execution_count": 52,
     "metadata": {},
     "output_type": "execute_result"
    }
   ],
   "source": [
    "a%b"
   ]
  },
  {
   "cell_type": "code",
   "execution_count": 53,
   "id": "5c6748ae-b626-481f-99fb-9ba40de46c34",
   "metadata": {},
   "outputs": [
    {
     "data": {
      "text/plain": [
       "2"
      ]
     },
     "execution_count": 53,
     "metadata": {},
     "output_type": "execute_result"
    }
   ],
   "source": [
    "b%a"
   ]
  },
  {
   "cell_type": "markdown",
   "id": "9ea603c7-5a7a-4fd7-916f-6710dbdea5fe",
   "metadata": {},
   "source": [
    "# Bitwise Operator"
   ]
  },
  {
   "cell_type": "markdown",
   "id": "da253e8c-d7a5-45cd-b5e5-aa4d45564b7a",
   "metadata": {},
   "source": [
    "### Bitwise Operators\n",
    "|Operation|Meaning|\n",
    "|:-:|:-:|\n",
    "| **∼** |bitwise complement (prefix unary operator)|\n",
    "| **&** |bitwise and|\n",
    "| **\\|** |bitwise or|\n",
    "| **^** |bitwise exclusive-or|\n",
    "| **<<** |shift bits left, filling in with zeros|\n",
    "| **>>** |shift bits right, filling in with sign bit|\n"
   ]
  },
  {
   "cell_type": "code",
   "execution_count": 54,
   "id": "5b341b94-1009-43ff-b6bb-432a6c50ea8b",
   "metadata": {},
   "outputs": [
    {
     "data": {
      "text/plain": [
       "'0b1010'"
      ]
     },
     "execution_count": 54,
     "metadata": {},
     "output_type": "execute_result"
    }
   ],
   "source": [
    "var=10\n",
    "bin(var)"
   ]
  },
  {
   "cell_type": "code",
   "execution_count": 55,
   "id": "86b1743f-26a5-4ca8-bbaa-b4aaa644fad0",
   "metadata": {},
   "outputs": [
    {
     "data": {
      "text/plain": [
       "-11"
      ]
     },
     "execution_count": 55,
     "metadata": {},
     "output_type": "execute_result"
    }
   ],
   "source": [
    "~var"
   ]
  },
  {
   "cell_type": "code",
   "execution_count": 56,
   "id": "13ca38e5-e2dd-49ef-a282-1e4e2c12e9d5",
   "metadata": {},
   "outputs": [
    {
     "data": {
      "text/plain": [
       "True"
      ]
     },
     "execution_count": 56,
     "metadata": {},
     "output_type": "execute_result"
    }
   ],
   "source": [
    "True | False"
   ]
  },
  {
   "cell_type": "code",
   "execution_count": 57,
   "id": "3078ea80-8289-40b0-9f19-b31d0d590319",
   "metadata": {},
   "outputs": [
    {
     "data": {
      "text/plain": [
       "False"
      ]
     },
     "execution_count": 57,
     "metadata": {},
     "output_type": "execute_result"
    }
   ],
   "source": [
    "True & False"
   ]
  },
  {
   "cell_type": "code",
   "execution_count": 58,
   "id": "f9f76810-e9a0-4c77-8b44-6dc2c4925218",
   "metadata": {},
   "outputs": [
    {
     "data": {
      "text/plain": [
       "5"
      ]
     },
     "execution_count": 58,
     "metadata": {},
     "output_type": "execute_result"
    }
   ],
   "source": [
    "var >> 1"
   ]
  },
  {
   "cell_type": "code",
   "execution_count": 59,
   "id": "65c575ed-f877-4dca-8e1d-704e9cdc6a02",
   "metadata": {},
   "outputs": [
    {
     "data": {
      "text/plain": [
       "40"
      ]
     },
     "execution_count": 59,
     "metadata": {},
     "output_type": "execute_result"
    }
   ],
   "source": [
    "var<<2"
   ]
  },
  {
   "cell_type": "code",
   "execution_count": null,
   "id": "3f494248-4a19-42df-8b99-a840b355ccbf",
   "metadata": {},
   "outputs": [],
   "source": []
  },
  {
   "cell_type": "code",
   "execution_count": null,
   "id": "a3c2dcd6-649f-4a52-9f7b-e7a515e40987",
   "metadata": {},
   "outputs": [],
   "source": []
  },
  {
   "cell_type": "code",
   "execution_count": null,
   "id": "8d8a6346-7756-4fad-9785-68216a312961",
   "metadata": {},
   "outputs": [],
   "source": []
  },
  {
   "cell_type": "code",
   "execution_count": null,
   "id": "c76f92b4-7925-453b-9b87-f8e4172394b2",
   "metadata": {},
   "outputs": [],
   "source": []
  },
  {
   "cell_type": "code",
   "execution_count": null,
   "id": "44ea65d0-077a-4c86-8f1d-d0e5cb01b111",
   "metadata": {},
   "outputs": [],
   "source": []
  },
  {
   "cell_type": "code",
   "execution_count": null,
   "id": "25371b43-bc12-43ec-908d-f89fea4768d8",
   "metadata": {},
   "outputs": [],
   "source": []
  },
  {
   "cell_type": "code",
   "execution_count": null,
   "id": "239aa1f0-db39-4aaf-9513-0db8d0d23c8f",
   "metadata": {},
   "outputs": [],
   "source": []
  },
  {
   "cell_type": "code",
   "execution_count": null,
   "id": "d5c42cbe-c190-4de2-9136-fdf053684047",
   "metadata": {},
   "outputs": [],
   "source": []
  },
  {
   "cell_type": "code",
   "execution_count": null,
   "id": "66f85a56-0791-4ed3-b34f-7ee687362c6f",
   "metadata": {},
   "outputs": [],
   "source": []
  },
  {
   "cell_type": "code",
   "execution_count": null,
   "id": "54e4f1fe-b192-4b12-a738-c430a6dcd0c1",
   "metadata": {},
   "outputs": [],
   "source": []
  },
  {
   "cell_type": "code",
   "execution_count": null,
   "id": "0d669528-1b7d-46bb-b852-849f2f036d52",
   "metadata": {},
   "outputs": [],
   "source": []
  },
  {
   "cell_type": "code",
   "execution_count": null,
   "id": "7bdc527b-7f5e-4994-a69c-31dfb3f0da38",
   "metadata": {},
   "outputs": [],
   "source": []
  },
  {
   "cell_type": "code",
   "execution_count": null,
   "id": "517478c6-d90e-46e9-bda4-ff5046637866",
   "metadata": {},
   "outputs": [],
   "source": []
  },
  {
   "cell_type": "code",
   "execution_count": null,
   "id": "27b76e39-670d-47c0-b7f7-29f0a76fb146",
   "metadata": {},
   "outputs": [],
   "source": []
  },
  {
   "cell_type": "code",
   "execution_count": null,
   "id": "accc3046-20c3-4401-8d51-bd5cd306314b",
   "metadata": {},
   "outputs": [],
   "source": []
  },
  {
   "cell_type": "code",
   "execution_count": null,
   "id": "62e8e326-1f68-4b20-8327-33c9efc8b6ac",
   "metadata": {},
   "outputs": [],
   "source": []
  },
  {
   "cell_type": "code",
   "execution_count": null,
   "id": "c9f0e947-a5d9-447f-af86-503830264f1d",
   "metadata": {},
   "outputs": [],
   "source": []
  },
  {
   "cell_type": "code",
   "execution_count": null,
   "id": "a31495de-e1df-4b5f-901f-12f2fce2d469",
   "metadata": {},
   "outputs": [],
   "source": []
  },
  {
   "cell_type": "code",
   "execution_count": null,
   "id": "2ec41276-1533-46a6-9538-2b87e35fff66",
   "metadata": {},
   "outputs": [],
   "source": []
  },
  {
   "cell_type": "code",
   "execution_count": null,
   "id": "b5e009b2-6d0f-4bd2-a016-b27c1a14824b",
   "metadata": {},
   "outputs": [],
   "source": []
  },
  {
   "cell_type": "code",
   "execution_count": null,
   "id": "bb8b2417-ca0b-4efc-a256-b6c5977094c3",
   "metadata": {},
   "outputs": [],
   "source": []
  },
  {
   "cell_type": "code",
   "execution_count": null,
   "id": "a7b06097-8229-49f3-ac43-28ba3143a71d",
   "metadata": {},
   "outputs": [],
   "source": []
  },
  {
   "cell_type": "code",
   "execution_count": null,
   "id": "b53de836-7b5c-4d82-90ef-1b69a0d7b3dc",
   "metadata": {},
   "outputs": [],
   "source": []
  },
  {
   "cell_type": "code",
   "execution_count": null,
   "id": "99cfb20e-2051-43b4-ae26-199c04face68",
   "metadata": {},
   "outputs": [],
   "source": []
  },
  {
   "cell_type": "code",
   "execution_count": null,
   "id": "b0aa8536-8f8f-4012-ae6b-cac2aeb19904",
   "metadata": {},
   "outputs": [],
   "source": []
  },
  {
   "cell_type": "code",
   "execution_count": null,
   "id": "aad13d12-99b0-4e75-aa47-99d4a12affcf",
   "metadata": {},
   "outputs": [],
   "source": []
  },
  {
   "cell_type": "code",
   "execution_count": null,
   "id": "a8724462-7af7-40ad-b0df-d16d2ef6740b",
   "metadata": {},
   "outputs": [],
   "source": []
  },
  {
   "cell_type": "code",
   "execution_count": null,
   "id": "32578791-e3cd-45e0-a507-18a312739779",
   "metadata": {},
   "outputs": [],
   "source": []
  },
  {
   "cell_type": "code",
   "execution_count": null,
   "id": "6c41e783-e5ff-4e73-873f-407d4c86b9d0",
   "metadata": {},
   "outputs": [],
   "source": []
  },
  {
   "cell_type": "code",
   "execution_count": null,
   "id": "368d3fd7-9a4e-4b63-8e5b-26794430690a",
   "metadata": {},
   "outputs": [],
   "source": []
  },
  {
   "cell_type": "code",
   "execution_count": null,
   "id": "e310ad64-0a50-467a-a163-a8afba7c3c92",
   "metadata": {},
   "outputs": [],
   "source": []
  }
 ],
 "metadata": {
  "kernelspec": {
   "display_name": "Python 3 (ipykernel)",
   "language": "python",
   "name": "python3"
  },
  "language_info": {
   "codemirror_mode": {
    "name": "ipython",
    "version": 3
   },
   "file_extension": ".py",
   "mimetype": "text/x-python",
   "name": "python",
   "nbconvert_exporter": "python",
   "pygments_lexer": "ipython3",
   "version": "3.10.8"
  }
 },
 "nbformat": 4,
 "nbformat_minor": 5
}
